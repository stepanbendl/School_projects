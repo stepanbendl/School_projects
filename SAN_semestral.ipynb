{
  "nbformat": 4,
  "nbformat_minor": 0,
  "metadata": {
    "colab": {
      "name": "SAN_semestral.ipynb",
      "provenance": [],
      "collapsed_sections": []
    },
    "kernelspec": {
      "name": "python3",
      "display_name": "Python 3"
    },
    "language_info": {
      "name": "python"
    }
  },
  "cells": [
    {
      "cell_type": "markdown",
      "source": [
        "Imports"
      ],
      "metadata": {
        "id": "n7Tna9FEywMa"
      }
    },
    {
      "cell_type": "code",
      "execution_count": null,
      "metadata": {
        "id": "CK_4OZ9rwe6T",
        "colab": {
          "base_uri": "https://localhost:8080/"
        },
        "outputId": "c2ee5f95-4417-46a0-e92e-237d6d42e671"
      },
      "outputs": [
        {
          "output_type": "stream",
          "name": "stdout",
          "text": [
            "Requirement already satisfied: umap-learn in /usr/local/lib/python3.7/dist-packages (0.5.2)\n",
            "Requirement already satisfied: numba>=0.49 in /usr/local/lib/python3.7/dist-packages (from umap-learn) (0.51.2)\n",
            "Requirement already satisfied: numpy>=1.17 in /usr/local/lib/python3.7/dist-packages (from umap-learn) (1.19.5)\n",
            "Requirement already satisfied: scikit-learn>=0.22 in /usr/local/lib/python3.7/dist-packages (from umap-learn) (1.0.1)\n",
            "Requirement already satisfied: pynndescent>=0.5 in /usr/local/lib/python3.7/dist-packages (from umap-learn) (0.5.5)\n",
            "Requirement already satisfied: tqdm in /usr/local/lib/python3.7/dist-packages (from umap-learn) (4.62.3)\n",
            "Requirement already satisfied: scipy>=1.0 in /usr/local/lib/python3.7/dist-packages (from umap-learn) (1.4.1)\n",
            "Requirement already satisfied: llvmlite<0.35,>=0.34.0.dev0 in /usr/local/lib/python3.7/dist-packages (from numba>=0.49->umap-learn) (0.34.0)\n",
            "Requirement already satisfied: setuptools in /usr/local/lib/python3.7/dist-packages (from numba>=0.49->umap-learn) (57.4.0)\n",
            "Requirement already satisfied: joblib>=0.11 in /usr/local/lib/python3.7/dist-packages (from pynndescent>=0.5->umap-learn) (1.1.0)\n",
            "Requirement already satisfied: threadpoolctl>=2.0.0 in /usr/local/lib/python3.7/dist-packages (from scikit-learn>=0.22->umap-learn) (3.0.0)\n"
          ]
        }
      ],
      "source": [
        "import numpy as np \n",
        "import pandas as pd \n",
        "import seaborn as sns\n",
        "from matplotlib import pyplot as plt\n",
        "from datetime import datetime, time\n",
        "from datetime import date\n",
        "import holidays\n",
        "\n",
        "!pip install umap-learn\n",
        "import umap \n",
        "\n",
        "from sklearn.cluster import DBSCAN\n",
        "from sklearn.preprocessing import StandardScaler"
      ]
    },
    {
      "cell_type": "markdown",
      "source": [
        "Read the data"
      ],
      "metadata": {
        "id": "F02RR5Z1yysA"
      }
    },
    {
      "cell_type": "code",
      "source": [
        "data=pd.read_csv('WA_Fn-UseC_-HR-Employee-Attrition.csv')\n",
        "\n",
        "data.head(10)"
      ],
      "metadata": {
        "colab": {
          "base_uri": "https://localhost:8080/",
          "height": 601
        },
        "id": "xzrvztu6yz2X",
        "outputId": "f826b9e1-208d-4184-e4ca-f0c604bb87a5"
      },
      "execution_count": null,
      "outputs": [
        {
          "output_type": "execute_result",
          "data": {
            "text/html": [
              "\n",
              "  <div id=\"df-b0a049d6-4cda-405d-a4eb-dd4f045911a9\">\n",
              "    <div class=\"colab-df-container\">\n",
              "      <div>\n",
              "<style scoped>\n",
              "    .dataframe tbody tr th:only-of-type {\n",
              "        vertical-align: middle;\n",
              "    }\n",
              "\n",
              "    .dataframe tbody tr th {\n",
              "        vertical-align: top;\n",
              "    }\n",
              "\n",
              "    .dataframe thead th {\n",
              "        text-align: right;\n",
              "    }\n",
              "</style>\n",
              "<table border=\"1\" class=\"dataframe\">\n",
              "  <thead>\n",
              "    <tr style=\"text-align: right;\">\n",
              "      <th></th>\n",
              "      <th>Age</th>\n",
              "      <th>Attrition</th>\n",
              "      <th>BusinessTravel</th>\n",
              "      <th>DailyRate</th>\n",
              "      <th>Department</th>\n",
              "      <th>DistanceFromHome</th>\n",
              "      <th>Education</th>\n",
              "      <th>EducationField</th>\n",
              "      <th>EmployeeCount</th>\n",
              "      <th>EmployeeNumber</th>\n",
              "      <th>EnvironmentSatisfaction</th>\n",
              "      <th>Gender</th>\n",
              "      <th>HourlyRate</th>\n",
              "      <th>JobInvolvement</th>\n",
              "      <th>JobLevel</th>\n",
              "      <th>JobRole</th>\n",
              "      <th>JobSatisfaction</th>\n",
              "      <th>MaritalStatus</th>\n",
              "      <th>MonthlyIncome</th>\n",
              "      <th>MonthlyRate</th>\n",
              "      <th>NumCompaniesWorked</th>\n",
              "      <th>Over18</th>\n",
              "      <th>OverTime</th>\n",
              "      <th>PercentSalaryHike</th>\n",
              "      <th>PerformanceRating</th>\n",
              "      <th>RelationshipSatisfaction</th>\n",
              "      <th>StandardHours</th>\n",
              "      <th>StockOptionLevel</th>\n",
              "      <th>TotalWorkingYears</th>\n",
              "      <th>TrainingTimesLastYear</th>\n",
              "      <th>WorkLifeBalance</th>\n",
              "      <th>YearsAtCompany</th>\n",
              "      <th>YearsInCurrentRole</th>\n",
              "      <th>YearsSinceLastPromotion</th>\n",
              "      <th>YearsWithCurrManager</th>\n",
              "    </tr>\n",
              "  </thead>\n",
              "  <tbody>\n",
              "    <tr>\n",
              "      <th>0</th>\n",
              "      <td>41</td>\n",
              "      <td>Yes</td>\n",
              "      <td>Travel_Rarely</td>\n",
              "      <td>1102</td>\n",
              "      <td>Sales</td>\n",
              "      <td>1</td>\n",
              "      <td>2</td>\n",
              "      <td>Life Sciences</td>\n",
              "      <td>1</td>\n",
              "      <td>1</td>\n",
              "      <td>2</td>\n",
              "      <td>Female</td>\n",
              "      <td>94</td>\n",
              "      <td>3</td>\n",
              "      <td>2</td>\n",
              "      <td>Sales Executive</td>\n",
              "      <td>4</td>\n",
              "      <td>Single</td>\n",
              "      <td>5993</td>\n",
              "      <td>19479</td>\n",
              "      <td>8</td>\n",
              "      <td>Y</td>\n",
              "      <td>Yes</td>\n",
              "      <td>11</td>\n",
              "      <td>3</td>\n",
              "      <td>1</td>\n",
              "      <td>80</td>\n",
              "      <td>0</td>\n",
              "      <td>8</td>\n",
              "      <td>0</td>\n",
              "      <td>1</td>\n",
              "      <td>6</td>\n",
              "      <td>4</td>\n",
              "      <td>0</td>\n",
              "      <td>5</td>\n",
              "    </tr>\n",
              "    <tr>\n",
              "      <th>1</th>\n",
              "      <td>49</td>\n",
              "      <td>No</td>\n",
              "      <td>Travel_Frequently</td>\n",
              "      <td>279</td>\n",
              "      <td>Research &amp; Development</td>\n",
              "      <td>8</td>\n",
              "      <td>1</td>\n",
              "      <td>Life Sciences</td>\n",
              "      <td>1</td>\n",
              "      <td>2</td>\n",
              "      <td>3</td>\n",
              "      <td>Male</td>\n",
              "      <td>61</td>\n",
              "      <td>2</td>\n",
              "      <td>2</td>\n",
              "      <td>Research Scientist</td>\n",
              "      <td>2</td>\n",
              "      <td>Married</td>\n",
              "      <td>5130</td>\n",
              "      <td>24907</td>\n",
              "      <td>1</td>\n",
              "      <td>Y</td>\n",
              "      <td>No</td>\n",
              "      <td>23</td>\n",
              "      <td>4</td>\n",
              "      <td>4</td>\n",
              "      <td>80</td>\n",
              "      <td>1</td>\n",
              "      <td>10</td>\n",
              "      <td>3</td>\n",
              "      <td>3</td>\n",
              "      <td>10</td>\n",
              "      <td>7</td>\n",
              "      <td>1</td>\n",
              "      <td>7</td>\n",
              "    </tr>\n",
              "    <tr>\n",
              "      <th>2</th>\n",
              "      <td>37</td>\n",
              "      <td>Yes</td>\n",
              "      <td>Travel_Rarely</td>\n",
              "      <td>1373</td>\n",
              "      <td>Research &amp; Development</td>\n",
              "      <td>2</td>\n",
              "      <td>2</td>\n",
              "      <td>Other</td>\n",
              "      <td>1</td>\n",
              "      <td>4</td>\n",
              "      <td>4</td>\n",
              "      <td>Male</td>\n",
              "      <td>92</td>\n",
              "      <td>2</td>\n",
              "      <td>1</td>\n",
              "      <td>Laboratory Technician</td>\n",
              "      <td>3</td>\n",
              "      <td>Single</td>\n",
              "      <td>2090</td>\n",
              "      <td>2396</td>\n",
              "      <td>6</td>\n",
              "      <td>Y</td>\n",
              "      <td>Yes</td>\n",
              "      <td>15</td>\n",
              "      <td>3</td>\n",
              "      <td>2</td>\n",
              "      <td>80</td>\n",
              "      <td>0</td>\n",
              "      <td>7</td>\n",
              "      <td>3</td>\n",
              "      <td>3</td>\n",
              "      <td>0</td>\n",
              "      <td>0</td>\n",
              "      <td>0</td>\n",
              "      <td>0</td>\n",
              "    </tr>\n",
              "    <tr>\n",
              "      <th>3</th>\n",
              "      <td>33</td>\n",
              "      <td>No</td>\n",
              "      <td>Travel_Frequently</td>\n",
              "      <td>1392</td>\n",
              "      <td>Research &amp; Development</td>\n",
              "      <td>3</td>\n",
              "      <td>4</td>\n",
              "      <td>Life Sciences</td>\n",
              "      <td>1</td>\n",
              "      <td>5</td>\n",
              "      <td>4</td>\n",
              "      <td>Female</td>\n",
              "      <td>56</td>\n",
              "      <td>3</td>\n",
              "      <td>1</td>\n",
              "      <td>Research Scientist</td>\n",
              "      <td>3</td>\n",
              "      <td>Married</td>\n",
              "      <td>2909</td>\n",
              "      <td>23159</td>\n",
              "      <td>1</td>\n",
              "      <td>Y</td>\n",
              "      <td>Yes</td>\n",
              "      <td>11</td>\n",
              "      <td>3</td>\n",
              "      <td>3</td>\n",
              "      <td>80</td>\n",
              "      <td>0</td>\n",
              "      <td>8</td>\n",
              "      <td>3</td>\n",
              "      <td>3</td>\n",
              "      <td>8</td>\n",
              "      <td>7</td>\n",
              "      <td>3</td>\n",
              "      <td>0</td>\n",
              "    </tr>\n",
              "    <tr>\n",
              "      <th>4</th>\n",
              "      <td>27</td>\n",
              "      <td>No</td>\n",
              "      <td>Travel_Rarely</td>\n",
              "      <td>591</td>\n",
              "      <td>Research &amp; Development</td>\n",
              "      <td>2</td>\n",
              "      <td>1</td>\n",
              "      <td>Medical</td>\n",
              "      <td>1</td>\n",
              "      <td>7</td>\n",
              "      <td>1</td>\n",
              "      <td>Male</td>\n",
              "      <td>40</td>\n",
              "      <td>3</td>\n",
              "      <td>1</td>\n",
              "      <td>Laboratory Technician</td>\n",
              "      <td>2</td>\n",
              "      <td>Married</td>\n",
              "      <td>3468</td>\n",
              "      <td>16632</td>\n",
              "      <td>9</td>\n",
              "      <td>Y</td>\n",
              "      <td>No</td>\n",
              "      <td>12</td>\n",
              "      <td>3</td>\n",
              "      <td>4</td>\n",
              "      <td>80</td>\n",
              "      <td>1</td>\n",
              "      <td>6</td>\n",
              "      <td>3</td>\n",
              "      <td>3</td>\n",
              "      <td>2</td>\n",
              "      <td>2</td>\n",
              "      <td>2</td>\n",
              "      <td>2</td>\n",
              "    </tr>\n",
              "    <tr>\n",
              "      <th>5</th>\n",
              "      <td>32</td>\n",
              "      <td>No</td>\n",
              "      <td>Travel_Frequently</td>\n",
              "      <td>1005</td>\n",
              "      <td>Research &amp; Development</td>\n",
              "      <td>2</td>\n",
              "      <td>2</td>\n",
              "      <td>Life Sciences</td>\n",
              "      <td>1</td>\n",
              "      <td>8</td>\n",
              "      <td>4</td>\n",
              "      <td>Male</td>\n",
              "      <td>79</td>\n",
              "      <td>3</td>\n",
              "      <td>1</td>\n",
              "      <td>Laboratory Technician</td>\n",
              "      <td>4</td>\n",
              "      <td>Single</td>\n",
              "      <td>3068</td>\n",
              "      <td>11864</td>\n",
              "      <td>0</td>\n",
              "      <td>Y</td>\n",
              "      <td>No</td>\n",
              "      <td>13</td>\n",
              "      <td>3</td>\n",
              "      <td>3</td>\n",
              "      <td>80</td>\n",
              "      <td>0</td>\n",
              "      <td>8</td>\n",
              "      <td>2</td>\n",
              "      <td>2</td>\n",
              "      <td>7</td>\n",
              "      <td>7</td>\n",
              "      <td>3</td>\n",
              "      <td>6</td>\n",
              "    </tr>\n",
              "    <tr>\n",
              "      <th>6</th>\n",
              "      <td>59</td>\n",
              "      <td>No</td>\n",
              "      <td>Travel_Rarely</td>\n",
              "      <td>1324</td>\n",
              "      <td>Research &amp; Development</td>\n",
              "      <td>3</td>\n",
              "      <td>3</td>\n",
              "      <td>Medical</td>\n",
              "      <td>1</td>\n",
              "      <td>10</td>\n",
              "      <td>3</td>\n",
              "      <td>Female</td>\n",
              "      <td>81</td>\n",
              "      <td>4</td>\n",
              "      <td>1</td>\n",
              "      <td>Laboratory Technician</td>\n",
              "      <td>1</td>\n",
              "      <td>Married</td>\n",
              "      <td>2670</td>\n",
              "      <td>9964</td>\n",
              "      <td>4</td>\n",
              "      <td>Y</td>\n",
              "      <td>Yes</td>\n",
              "      <td>20</td>\n",
              "      <td>4</td>\n",
              "      <td>1</td>\n",
              "      <td>80</td>\n",
              "      <td>3</td>\n",
              "      <td>12</td>\n",
              "      <td>3</td>\n",
              "      <td>2</td>\n",
              "      <td>1</td>\n",
              "      <td>0</td>\n",
              "      <td>0</td>\n",
              "      <td>0</td>\n",
              "    </tr>\n",
              "    <tr>\n",
              "      <th>7</th>\n",
              "      <td>30</td>\n",
              "      <td>No</td>\n",
              "      <td>Travel_Rarely</td>\n",
              "      <td>1358</td>\n",
              "      <td>Research &amp; Development</td>\n",
              "      <td>24</td>\n",
              "      <td>1</td>\n",
              "      <td>Life Sciences</td>\n",
              "      <td>1</td>\n",
              "      <td>11</td>\n",
              "      <td>4</td>\n",
              "      <td>Male</td>\n",
              "      <td>67</td>\n",
              "      <td>3</td>\n",
              "      <td>1</td>\n",
              "      <td>Laboratory Technician</td>\n",
              "      <td>3</td>\n",
              "      <td>Divorced</td>\n",
              "      <td>2693</td>\n",
              "      <td>13335</td>\n",
              "      <td>1</td>\n",
              "      <td>Y</td>\n",
              "      <td>No</td>\n",
              "      <td>22</td>\n",
              "      <td>4</td>\n",
              "      <td>2</td>\n",
              "      <td>80</td>\n",
              "      <td>1</td>\n",
              "      <td>1</td>\n",
              "      <td>2</td>\n",
              "      <td>3</td>\n",
              "      <td>1</td>\n",
              "      <td>0</td>\n",
              "      <td>0</td>\n",
              "      <td>0</td>\n",
              "    </tr>\n",
              "    <tr>\n",
              "      <th>8</th>\n",
              "      <td>38</td>\n",
              "      <td>No</td>\n",
              "      <td>Travel_Frequently</td>\n",
              "      <td>216</td>\n",
              "      <td>Research &amp; Development</td>\n",
              "      <td>23</td>\n",
              "      <td>3</td>\n",
              "      <td>Life Sciences</td>\n",
              "      <td>1</td>\n",
              "      <td>12</td>\n",
              "      <td>4</td>\n",
              "      <td>Male</td>\n",
              "      <td>44</td>\n",
              "      <td>2</td>\n",
              "      <td>3</td>\n",
              "      <td>Manufacturing Director</td>\n",
              "      <td>3</td>\n",
              "      <td>Single</td>\n",
              "      <td>9526</td>\n",
              "      <td>8787</td>\n",
              "      <td>0</td>\n",
              "      <td>Y</td>\n",
              "      <td>No</td>\n",
              "      <td>21</td>\n",
              "      <td>4</td>\n",
              "      <td>2</td>\n",
              "      <td>80</td>\n",
              "      <td>0</td>\n",
              "      <td>10</td>\n",
              "      <td>2</td>\n",
              "      <td>3</td>\n",
              "      <td>9</td>\n",
              "      <td>7</td>\n",
              "      <td>1</td>\n",
              "      <td>8</td>\n",
              "    </tr>\n",
              "    <tr>\n",
              "      <th>9</th>\n",
              "      <td>36</td>\n",
              "      <td>No</td>\n",
              "      <td>Travel_Rarely</td>\n",
              "      <td>1299</td>\n",
              "      <td>Research &amp; Development</td>\n",
              "      <td>27</td>\n",
              "      <td>3</td>\n",
              "      <td>Medical</td>\n",
              "      <td>1</td>\n",
              "      <td>13</td>\n",
              "      <td>3</td>\n",
              "      <td>Male</td>\n",
              "      <td>94</td>\n",
              "      <td>3</td>\n",
              "      <td>2</td>\n",
              "      <td>Healthcare Representative</td>\n",
              "      <td>3</td>\n",
              "      <td>Married</td>\n",
              "      <td>5237</td>\n",
              "      <td>16577</td>\n",
              "      <td>6</td>\n",
              "      <td>Y</td>\n",
              "      <td>No</td>\n",
              "      <td>13</td>\n",
              "      <td>3</td>\n",
              "      <td>2</td>\n",
              "      <td>80</td>\n",
              "      <td>2</td>\n",
              "      <td>17</td>\n",
              "      <td>3</td>\n",
              "      <td>2</td>\n",
              "      <td>7</td>\n",
              "      <td>7</td>\n",
              "      <td>7</td>\n",
              "      <td>7</td>\n",
              "    </tr>\n",
              "  </tbody>\n",
              "</table>\n",
              "</div>\n",
              "      <button class=\"colab-df-convert\" onclick=\"convertToInteractive('df-b0a049d6-4cda-405d-a4eb-dd4f045911a9')\"\n",
              "              title=\"Convert this dataframe to an interactive table.\"\n",
              "              style=\"display:none;\">\n",
              "        \n",
              "  <svg xmlns=\"http://www.w3.org/2000/svg\" height=\"24px\"viewBox=\"0 0 24 24\"\n",
              "       width=\"24px\">\n",
              "    <path d=\"M0 0h24v24H0V0z\" fill=\"none\"/>\n",
              "    <path d=\"M18.56 5.44l.94 2.06.94-2.06 2.06-.94-2.06-.94-.94-2.06-.94 2.06-2.06.94zm-11 1L8.5 8.5l.94-2.06 2.06-.94-2.06-.94L8.5 2.5l-.94 2.06-2.06.94zm10 10l.94 2.06.94-2.06 2.06-.94-2.06-.94-.94-2.06-.94 2.06-2.06.94z\"/><path d=\"M17.41 7.96l-1.37-1.37c-.4-.4-.92-.59-1.43-.59-.52 0-1.04.2-1.43.59L10.3 9.45l-7.72 7.72c-.78.78-.78 2.05 0 2.83L4 21.41c.39.39.9.59 1.41.59.51 0 1.02-.2 1.41-.59l7.78-7.78 2.81-2.81c.8-.78.8-2.07 0-2.86zM5.41 20L4 18.59l7.72-7.72 1.47 1.35L5.41 20z\"/>\n",
              "  </svg>\n",
              "      </button>\n",
              "      \n",
              "  <style>\n",
              "    .colab-df-container {\n",
              "      display:flex;\n",
              "      flex-wrap:wrap;\n",
              "      gap: 12px;\n",
              "    }\n",
              "\n",
              "    .colab-df-convert {\n",
              "      background-color: #E8F0FE;\n",
              "      border: none;\n",
              "      border-radius: 50%;\n",
              "      cursor: pointer;\n",
              "      display: none;\n",
              "      fill: #1967D2;\n",
              "      height: 32px;\n",
              "      padding: 0 0 0 0;\n",
              "      width: 32px;\n",
              "    }\n",
              "\n",
              "    .colab-df-convert:hover {\n",
              "      background-color: #E2EBFA;\n",
              "      box-shadow: 0px 1px 2px rgba(60, 64, 67, 0.3), 0px 1px 3px 1px rgba(60, 64, 67, 0.15);\n",
              "      fill: #174EA6;\n",
              "    }\n",
              "\n",
              "    [theme=dark] .colab-df-convert {\n",
              "      background-color: #3B4455;\n",
              "      fill: #D2E3FC;\n",
              "    }\n",
              "\n",
              "    [theme=dark] .colab-df-convert:hover {\n",
              "      background-color: #434B5C;\n",
              "      box-shadow: 0px 1px 3px 1px rgba(0, 0, 0, 0.15);\n",
              "      filter: drop-shadow(0px 1px 2px rgba(0, 0, 0, 0.3));\n",
              "      fill: #FFFFFF;\n",
              "    }\n",
              "  </style>\n",
              "\n",
              "      <script>\n",
              "        const buttonEl =\n",
              "          document.querySelector('#df-b0a049d6-4cda-405d-a4eb-dd4f045911a9 button.colab-df-convert');\n",
              "        buttonEl.style.display =\n",
              "          google.colab.kernel.accessAllowed ? 'block' : 'none';\n",
              "\n",
              "        async function convertToInteractive(key) {\n",
              "          const element = document.querySelector('#df-b0a049d6-4cda-405d-a4eb-dd4f045911a9');\n",
              "          const dataTable =\n",
              "            await google.colab.kernel.invokeFunction('convertToInteractive',\n",
              "                                                     [key], {});\n",
              "          if (!dataTable) return;\n",
              "\n",
              "          const docLinkHtml = 'Like what you see? Visit the ' +\n",
              "            '<a target=\"_blank\" href=https://colab.research.google.com/notebooks/data_table.ipynb>data table notebook</a>'\n",
              "            + ' to learn more about interactive tables.';\n",
              "          element.innerHTML = '';\n",
              "          dataTable['output_type'] = 'display_data';\n",
              "          await google.colab.output.renderOutput(dataTable, element);\n",
              "          const docLink = document.createElement('div');\n",
              "          docLink.innerHTML = docLinkHtml;\n",
              "          element.appendChild(docLink);\n",
              "        }\n",
              "      </script>\n",
              "    </div>\n",
              "  </div>\n",
              "  "
            ],
            "text/plain": [
              "   Age Attrition  ... YearsSinceLastPromotion  YearsWithCurrManager\n",
              "0   41       Yes  ...                       0                     5\n",
              "1   49        No  ...                       1                     7\n",
              "2   37       Yes  ...                       0                     0\n",
              "3   33        No  ...                       3                     0\n",
              "4   27        No  ...                       2                     2\n",
              "5   32        No  ...                       3                     6\n",
              "6   59        No  ...                       0                     0\n",
              "7   30        No  ...                       0                     0\n",
              "8   38        No  ...                       1                     8\n",
              "9   36        No  ...                       7                     7\n",
              "\n",
              "[10 rows x 35 columns]"
            ]
          },
          "metadata": {},
          "execution_count": 4
        }
      ]
    },
    {
      "cell_type": "markdown",
      "source": [
        "# Exploratory data analysis"
      ],
      "metadata": {
        "id": "v3A2OrcBBAyw"
      }
    },
    {
      "cell_type": "markdown",
      "source": [
        "Manual dimension reduction. Some attributes are clearly not very useful, some are duplicates.\n",
        "\n"
      ],
      "metadata": {
        "id": "5xicsvLhcyzR"
      }
    },
    {
      "cell_type": "code",
      "source": [
        "data[\"StandardHours\"].unique()\n",
        "data[\"Over18\"].unique()\n",
        "data = data.drop(columns = [\"EmployeeNumber\", \"StandardHours\", \"Over18\"])"
      ],
      "metadata": {
        "id": "pS26ycxYcwbU"
      },
      "execution_count": null,
      "outputs": []
    },
    {
      "cell_type": "markdown",
      "source": [
        "Check the ratio on the Attrition column."
      ],
      "metadata": {
        "id": "ZOMNZZfreVqK"
      }
    },
    {
      "cell_type": "code",
      "source": [
        "data[\"Attrition\"].value_counts()"
      ],
      "metadata": {
        "colab": {
          "base_uri": "https://localhost:8080/"
        },
        "id": "hBsK8M50zD1P",
        "outputId": "0cc5d119-c517-4755-ccfa-6a230538e1bc"
      },
      "execution_count": null,
      "outputs": [
        {
          "output_type": "execute_result",
          "data": {
            "text/plain": [
              "No     1233\n",
              "Yes     237\n",
              "Name: Attrition, dtype: int64"
            ]
          },
          "metadata": {},
          "execution_count": 6
        }
      ]
    },
    {
      "cell_type": "code",
      "source": [
        "def print_stats(col):\n",
        "  print(\"Attrition = YES, \" + col + \" median:\", data[data[\"Attrition\"] == \"Yes\"][col].median())\n",
        "  print(\"Attrition = NO, \" + col + \" median:\", data[data[\"Attrition\"] == \"No\"][col].median())\n",
        "  print(\"Attrition = YES, \" + col + \" mean:\", data[data[\"Attrition\"] == \"Yes\"][col].mean())\n",
        "  print(\"Attrition = NO, \" + col + \" mean:\", data[data[\"Attrition\"] == \"No\"][col].mean())"
      ],
      "metadata": {
        "id": "KrXCt5NP9i_J"
      },
      "execution_count": null,
      "outputs": []
    },
    {
      "cell_type": "markdown",
      "source": [
        "###Exploratory analysis for `Age`\n",
        "\n",
        "Observation: Employees tend to leave the company when they are younger. The biggest attrition rate is for mid-age employees (roughly 28-38)."
      ],
      "metadata": {
        "id": "RtNKNuuipRv2"
      }
    },
    {
      "cell_type": "code",
      "source": [
        "plt.figure(figsize=(8,6))\n",
        "sns.boxplot(x = \"Attrition\", y = \"Age\", data = data)\n",
        "print_stats(\"Age\")"
      ],
      "metadata": {
        "colab": {
          "base_uri": "https://localhost:8080/",
          "height": 457
        },
        "id": "Ze1DZ5GVzO00",
        "outputId": "94b0096a-400c-46c8-c416-715dd882d6a7"
      },
      "execution_count": null,
      "outputs": [
        {
          "output_type": "stream",
          "name": "stdout",
          "text": [
            "Attrition = YES, Age median: 32.0\n",
            "Attrition = NO, Age median: 36.0\n",
            "Attrition = YES, Age mean: 33.607594936708864\n",
            "Attrition = NO, Age mean: 37.561232765612324\n"
          ]
        },
        {
          "output_type": "display_data",
          "data": {
            "image/png": "[encoded data removed]",
            "text/plain": [
              "<Figure size 576x432 with 1 Axes>"
            ]
          },
          "metadata": {
            "needs_background": "light"
          }
        }
      ]
    },
    {
      "cell_type": "markdown",
      "source": [
        "From the boxplot as well as from the median and mean, we can see that attrition is higher younger employees."
      ],
      "metadata": {
        "id": "LCMv7ZtCIPD8"
      }
    },
    {
      "cell_type": "markdown",
      "source": [
        "###Exploratory analysis for `DistanceFromHome`\n",
        "Observation: Employees tend to leave the company when the workplace is more far from their home."
      ],
      "metadata": {
        "id": "zl6Oa-Rv-1p6"
      }
    },
    {
      "cell_type": "code",
      "source": [
        "plt.figure(figsize=(6,6))\n",
        "sns.boxplot(x=\"Attrition\",y=\"DistanceFromHome\", data=data, hue=\"Attrition\")\n",
        "print_stats(\"DistanceFromHome\")"
      ],
      "metadata": {
        "colab": {
          "base_uri": "https://localhost:8080/",
          "height": 457
        },
        "id": "IF6flqmpzPTz",
        "outputId": "dfbdc400-a272-433c-ecc9-839aff884f10"
      },
      "execution_count": null,
      "outputs": [
        {
          "output_type": "stream",
          "name": "stdout",
          "text": [
            "Attrition = YES, DistanceFromHome median: 9.0\n",
            "Attrition = NO, DistanceFromHome median: 7.0\n",
            "Attrition = YES, DistanceFromHome mean: 10.632911392405063\n",
            "Attrition = NO, DistanceFromHome mean: 8.915652879156529\n"
          ]
        },
        {
          "output_type": "display_data",
          "data": {
            "image/png": "[encoded data removed]",
            "text/plain": [
              "<Figure size 432x432 with 1 Axes>"
            ]
          },
          "metadata": {
            "needs_background": "light"
          }
        }
      ]
    },
    {
      "cell_type": "code",
      "source": [
        "plt.figure(figsize=(10,6))\n",
        "sns.histplot(x=\"DistanceFromHome\", data=data[data[\"Attrition\"] == \"Yes\"],hue=\"Attrition\")"
      ],
      "metadata": {
        "colab": {
          "base_uri": "https://localhost:8080/",
          "height": 406
        },
        "id": "gSYC5rGF_K4m",
        "outputId": "b1ab4e10-4b23-4c3a-aae2-21d6bee66b24"
      },
      "execution_count": null,
      "outputs": [
        {
          "output_type": "execute_result",
          "data": {
            "text/plain": [
              "<matplotlib.axes._subplots.AxesSubplot at 0x7f70f4463050>"
            ]
          },
          "metadata": {},
          "execution_count": 10
        },
        {
          "output_type": "display_data",
          "data": {
            "image/png": "[encoded data removed]",
            "text/plain": [
              "<Figure size 720x432 with 1 Axes>"
            ]
          },
          "metadata": {
            "needs_background": "light"
          }
        }
      ]
    },
    {
      "cell_type": "code",
      "source": [
        "plt.figure(figsize=(10,6))\n",
        "sns.histplot(x=\"DistanceFromHome\", data=data[data[\"Attrition\"] == \"No\"],hue=\"Attrition\")"
      ],
      "metadata": {
        "colab": {
          "base_uri": "https://localhost:8080/",
          "height": 405
        },
        "id": "3u3tZ3fyEPBB",
        "outputId": "858d2f90-cd0e-4340-fb4f-374ccbd3d723"
      },
      "execution_count": null,
      "outputs": [
        {
          "output_type": "execute_result",
          "data": {
            "text/plain": [
              "<matplotlib.axes._subplots.AxesSubplot at 0x7f70f410f350>"
            ]
          },
          "metadata": {},
          "execution_count": 11
        },
        {
          "output_type": "display_data",
          "data": {
            "image/png": "[encoded data removed]",
            "text/plain": [
              "<Figure size 720x432 with 1 Axes>"
            ]
          },
          "metadata": {
            "needs_background": "light"
          }
        }
      ]
    },
    {
      "cell_type": "markdown",
      "source": [
        "From the histplot, we can see, that most employees live up to 10 units from the office. Also employees living close to the office are responsible for **most** attritinons (no conclusions about the rate)."
      ],
      "metadata": {
        "id": "qANjhlVUEDPn"
      }
    },
    {
      "cell_type": "code",
      "source": [
        "sns.distplot(data.DistanceFromHome[data.Attrition=='Yes'],label='Attrition',norm_hist=True,color='c',hist=False)\n",
        "sns.distplot(data.DistanceFromHome[data.Attrition=='No'],label='No Attrition',norm_hist=True,color='b',hist=False)"
      ],
      "metadata": {
        "colab": {
          "base_uri": "https://localhost:8080/",
          "height": 386
        },
        "id": "5NZ2kcdgSZbA",
        "outputId": "022a9fe8-4efd-4202-9d58-934bd4bc4f3f"
      },
      "execution_count": null,
      "outputs": [
        {
          "output_type": "stream",
          "name": "stderr",
          "text": [
            "/usr/local/lib/python3.7/dist-packages/seaborn/distributions.py:2619: FutureWarning: `distplot` is a deprecated function and will be removed in a future version. Please adapt your code to use either `displot` (a figure-level function with similar flexibility) or `kdeplot` (an axes-level function for kernel density plots).\n",
            "  warnings.warn(msg, FutureWarning)\n",
            "/usr/local/lib/python3.7/dist-packages/seaborn/distributions.py:2619: FutureWarning: `distplot` is a deprecated function and will be removed in a future version. Please adapt your code to use either `displot` (a figure-level function with similar flexibility) or `kdeplot` (an axes-level function for kernel density plots).\n",
            "  warnings.warn(msg, FutureWarning)\n"
          ]
        },
        {
          "output_type": "execute_result",
          "data": {
            "text/plain": [
              "<matplotlib.axes._subplots.AxesSubplot at 0x7f70f406ae10>"
            ]
          },
          "metadata": {},
          "execution_count": 12
        },
        {
          "output_type": "display_data",
          "data": {
            "image/png": "[encoded data removed]",
            "text/plain": [
              "<Figure size 432x288 with 1 Axes>"
            ]
          },
          "metadata": {
            "needs_background": "light"
          }
        }
      ]
    },
    {
      "cell_type": "markdown",
      "source": [
        "From the distribution plot, we can see that as distance from home increase, the attrition begins to surpass the non-attrition. The distance, where attrition surpasses non-attrition is roughly 11. This means, that starting from 11 units, the attrittion rate is higher."
      ],
      "metadata": {
        "id": "7yFGOThHsspv"
      }
    },
    {
      "cell_type": "markdown",
      "source": [
        "###Exploratory analysis for `NumCompaniesWorked`\n",
        "Observation: Most employees who left has worked in one company"
      ],
      "metadata": {
        "id": "D3S8yE0kHAFF"
      }
    },
    {
      "cell_type": "code",
      "source": [
        "print_stats(\"NumCompaniesWorked\")"
      ],
      "metadata": {
        "colab": {
          "base_uri": "https://localhost:8080/"
        },
        "id": "PZz3jb8fG-1g",
        "outputId": "173f2d73-92f3-4f32-dd95-19434102aadf"
      },
      "execution_count": null,
      "outputs": [
        {
          "output_type": "stream",
          "name": "stdout",
          "text": [
            "Attrition = YES, NumCompaniesWorked median: 1.0\n",
            "Attrition = NO, NumCompaniesWorked median: 2.0\n",
            "Attrition = YES, NumCompaniesWorked mean: 2.940928270042194\n",
            "Attrition = NO, NumCompaniesWorked mean: 2.6455798864557987\n"
          ]
        }
      ]
    },
    {
      "cell_type": "markdown",
      "source": [
        "Median and mean does not tell much this time."
      ],
      "metadata": {
        "id": "YSeAVhv6e7Fd"
      }
    },
    {
      "cell_type": "code",
      "source": [
        "sns.boxplot(x=\"Attrition\",y=\"NumCompaniesWorked\", data=data, hue=\"Attrition\")"
      ],
      "metadata": {
        "colab": {
          "base_uri": "https://localhost:8080/",
          "height": 296
        },
        "id": "qFwyS-jcfVWJ",
        "outputId": "d8ba58f2-f1fd-4656-f9e0-50fd48aaf628"
      },
      "execution_count": null,
      "outputs": [
        {
          "output_type": "execute_result",
          "data": {
            "text/plain": [
              "<matplotlib.axes._subplots.AxesSubplot at 0x7f70f3fefa90>"
            ]
          },
          "metadata": {},
          "execution_count": 14
        },
        {
          "output_type": "display_data",
          "data": {
            "image/png": "[encoded data removed]",
            "text/plain": [
              "<Figure size 432x288 with 1 Axes>"
            ]
          },
          "metadata": {
            "needs_background": "light"
          }
        }
      ]
    },
    {
      "cell_type": "markdown",
      "source": [
        "From the boxplot, we can see that the `NumCompaniesWorked` variance of employees who left is higher, than of those who stayed. This is also strengthened by the fact, that there are many more employees that stayed in the dataset."
      ],
      "metadata": {
        "id": "6HgM58Rvj5v5"
      }
    },
    {
      "cell_type": "code",
      "source": [
        "sns.countplot(x=\"NumCompaniesWorked\", data=data[data[\"Attrition\"] == \"No\"],hue=\"Attrition\")"
      ],
      "metadata": {
        "colab": {
          "base_uri": "https://localhost:8080/",
          "height": 296
        },
        "id": "kFh4NlAefAyd",
        "outputId": "deba091b-6dc1-4073-c3a9-cb7003cb3425"
      },
      "execution_count": null,
      "outputs": [
        {
          "output_type": "execute_result",
          "data": {
            "text/plain": [
              "<matplotlib.axes._subplots.AxesSubplot at 0x7f70f3f6f950>"
            ]
          },
          "metadata": {},
          "execution_count": 15
        },
        {
          "output_type": "display_data",
          "data": {
            "image/png": "[encoded data removed]",
            "text/plain": [
              "<Figure size 432x288 with 1 Axes>"
            ]
          },
          "metadata": {
            "needs_background": "light"
          }
        }
      ]
    },
    {
      "cell_type": "code",
      "source": [
        "sns.countplot(x=\"NumCompaniesWorked\", data=data[data[\"Attrition\"] == \"Yes\"],hue=\"Attrition\")"
      ],
      "metadata": {
        "colab": {
          "base_uri": "https://localhost:8080/",
          "height": 296
        },
        "id": "x1Co0pkHfKHo",
        "outputId": "a9d66a72-51d9-49e6-a4d5-d33cc521edf8"
      },
      "execution_count": null,
      "outputs": [
        {
          "output_type": "execute_result",
          "data": {
            "text/plain": [
              "<matplotlib.axes._subplots.AxesSubplot at 0x7f70f3ee6910>"
            ]
          },
          "metadata": {},
          "execution_count": 16
        },
        {
          "output_type": "display_data",
          "data": {
            "image/png": "[encoded data removed]",
            "text/plain": [
              "<Figure size 432x288 with 1 Axes>"
            ]
          },
          "metadata": {
            "needs_background": "light"
          }
        }
      ]
    },
    {
      "cell_type": "markdown",
      "source": [
        "###Exploratory analysis for `BusinessTravel`\n",
        "Observation: Most employees who left has traveled rarley. Employees that travel frequently have the biggest attrition rate."
      ],
      "metadata": {
        "id": "8T9yi5x8p2KI"
      }
    },
    {
      "cell_type": "code",
      "source": [
        "sns.countplot(x='BusinessTravel',hue='Attrition',data=data)"
      ],
      "metadata": {
        "colab": {
          "base_uri": "https://localhost:8080/",
          "height": 297
        },
        "id": "qjfbCSziutZa",
        "outputId": "45f6b3ca-2184-43de-d67e-1515c1d7cac0"
      },
      "execution_count": null,
      "outputs": [
        {
          "output_type": "execute_result",
          "data": {
            "text/plain": [
              "<matplotlib.axes._subplots.AxesSubplot at 0x7f70f3e22290>"
            ]
          },
          "metadata": {},
          "execution_count": 17
        },
        {
          "output_type": "display_data",
          "data": {
            "image/png": "[encoded data removed]",
            "text/plain": [
              "<Figure size 432x288 with 1 Axes>"
            ]
          },
          "metadata": {
            "needs_background": "light"
          }
        }
      ]
    },
    {
      "cell_type": "markdown",
      "source": [
        "From the plot above, we can see that mostly `Travel_Rarely` samples are present in the dataset. This indicates, that data are not balanced. So let's see some percentage."
      ],
      "metadata": {
        "id": "pVbY-JyrxWIZ"
      }
    },
    {
      "cell_type": "code",
      "source": [
        "print('Attriton in Travel_Rarely: ' + \n",
        "      str(100*len(data[(data.BusinessTravel=='Travel_Rarely') & (data.Attrition=='Yes')])\n",
        "      /len(data[data.BusinessTravel=='Travel_Rarely'])) + \" %\")\n",
        "\n",
        "print('Attriton in Travel_Frequently: ' +\n",
        "      str(100*len(data[(data.BusinessTravel=='Travel_Frequently') & (data.Attrition=='Yes')])\n",
        "      /len(data[data.BusinessTravel=='Travel_Frequently'])) + \" %\")\n",
        "\n",
        "print('Attriton in Non_Travel: ' +\n",
        "      str(100*len(data[(data.BusinessTravel=='Non-Travel') & (data.Attrition=='Yes')])\n",
        "      /len(data[data.BusinessTravel=='Non-Travel'])) + \" %\")"
      ],
      "metadata": {
        "colab": {
          "base_uri": "https://localhost:8080/"
        },
        "id": "27_oQzIrhSHO",
        "outputId": "2e3d118d-7f91-4895-ecaa-cf344d8bd4c5"
      },
      "execution_count": null,
      "outputs": [
        {
          "output_type": "stream",
          "name": "stdout",
          "text": [
            "Attriton in Travel_Rarely: 14.956855225311601 %\n",
            "Attriton in Travel_Frequently: 24.90974729241877 %\n",
            "Attriton in Non_Travel: 8.0 %\n"
          ]
        }
      ]
    },
    {
      "cell_type": "markdown",
      "source": [
        "Above calculations shows that employees who travel frequently are more likely to leave the company.\n",
        "\n"
      ],
      "metadata": {
        "id": "oZKAftkkzOcg"
      }
    },
    {
      "cell_type": "markdown",
      "source": [
        "###Exploratory analysis for `Overtime`\n",
        "Observation: The number of people who do not work overtime is higher. Interesting thing in the Attrition is, that the number of people who left the organization and worked overtime is the same as the number of people who left the organization and did not work overtime. We can see this in the middle graph.\n",
        "\n"
      ],
      "metadata": {
        "id": "70FN4qS5p_Ab"
      }
    },
    {
      "cell_type": "code",
      "source": [
        "plt.figure(figsize=(13,5))\n",
        "plt.subplot(131)\n",
        "sns.countplot(data.OverTime)\n",
        "plt.title('Overall')\n",
        "plt.subplot(132)\n",
        "sns.countplot(data.OverTime[data.Attrition=='Yes'])\n",
        "plt.title('Attrition')\n",
        "plt.subplot(133)\n",
        "sns.countplot(data.OverTime[data.Attrition=='No'])\n",
        "plt.title('Non-Attriton')"
      ],
      "metadata": {
        "colab": {
          "base_uri": "https://localhost:8080/",
          "height": 492
        },
        "id": "P9x_nxc9qfu_",
        "outputId": "2a1dee20-74a4-45d9-b3a2-9b90805ace6d"
      },
      "execution_count": null,
      "outputs": [
        {
          "output_type": "stream",
          "name": "stderr",
          "text": [
            "/usr/local/lib/python3.7/dist-packages/seaborn/_decorators.py:43: FutureWarning: Pass the following variable as a keyword arg: x. From version 0.12, the only valid positional argument will be `data`, and passing other arguments without an explicit keyword will result in an error or misinterpretation.\n",
            "  FutureWarning\n",
            "/usr/local/lib/python3.7/dist-packages/seaborn/_decorators.py:43: FutureWarning: Pass the following variable as a keyword arg: x. From version 0.12, the only valid positional argument will be `data`, and passing other arguments without an explicit keyword will result in an error or misinterpretation.\n",
            "  FutureWarning\n",
            "/usr/local/lib/python3.7/dist-packages/seaborn/_decorators.py:43: FutureWarning: Pass the following variable as a keyword arg: x. From version 0.12, the only valid positional argument will be `data`, and passing other arguments without an explicit keyword will result in an error or misinterpretation.\n",
            "  FutureWarning\n"
          ]
        },
        {
          "output_type": "execute_result",
          "data": {
            "text/plain": [
              "Text(0.5, 1.0, 'Non-Attriton')"
            ]
          },
          "metadata": {},
          "execution_count": 19
        },
        {
          "output_type": "display_data",
          "data": {
            "image/png": "[encoded data removed]",
            "text/plain": [
              "<Figure size 936x360 with 3 Axes>"
            ]
          },
          "metadata": {
            "needs_background": "light"
          }
        }
      ]
    },
    {
      "cell_type": "markdown",
      "source": [
        "### Other interesting things"
      ],
      "metadata": {
        "id": "6kUmAufaCu4m"
      }
    },
    {
      "cell_type": "markdown",
      "source": [
        "I noticed, that the `JobSatisfaction` is simillar for all job roles, but `Human Resources`. This is clearly visible from the boxplot below"
      ],
      "metadata": {
        "id": "j2J_rFXjCyWl"
      }
    },
    {
      "cell_type": "code",
      "source": [
        "sns.boxplot(data['JobRole'], data['JobSatisfaction'])\n",
        "plt.xticks( rotation=90)\n",
        "plt.show()"
      ],
      "metadata": {
        "colab": {
          "base_uri": "https://localhost:8080/",
          "height": 457
        },
        "id": "fq9Ma8e5mfe0",
        "outputId": "e995c177-1a12-498a-fefb-3a32ec8686f3"
      },
      "execution_count": null,
      "outputs": [
        {
          "output_type": "stream",
          "name": "stderr",
          "text": [
            "/usr/local/lib/python3.7/dist-packages/seaborn/_decorators.py:43: FutureWarning: Pass the following variables as keyword args: x, y. From version 0.12, the only valid positional argument will be `data`, and passing other arguments without an explicit keyword will result in an error or misinterpretation.\n",
            "  FutureWarning\n"
          ]
        },
        {
          "output_type": "display_data",
          "data": {
            "image/png": "[encoded data removed]",
            "text/plain": [
              "<Figure size 432x288 with 1 Axes>"
            ]
          },
          "metadata": {
            "needs_background": "light"
          }
        }
      ]
    },
    {
      "cell_type": "markdown",
      "source": [
        "### Correlation matrix\n"
      ],
      "metadata": {
        "id": "xAJvbciWDc0D"
      }
    },
    {
      "cell_type": "markdown",
      "source": [
        "In the matrix below, we can observe the correlation of variables. We can see that `Age` correlates with many other variables, mostly with the ones that depends on time (`YearsAt..`). There are also many expected correlations. To give a few examples:\n",
        "\n",
        "\n",
        "*   `PerformanceRating` & `PercentSalaryHike` - employees with good performance are getting pay rise.\n",
        "*   `MonthlyIncome` & `JobLevel` - the higher the job level, the more money you get.\n",
        "*    `YearsAtCompany` & `YearsAtCurrentRole` & `YearsSinceLastPromotion` & `YearsWithCurrentManager` - the more years the employee works in the company, the more years he spends in the current role (I think people tend to stay at one role in the company. When you want to change your role, you usually try your luck in another company.), the more years passed since the last promotion (as the role did not change) and the more years the employee is with current manager. All those variables also correlates with `Age`, as stated above.\n",
        "\n"
      ],
      "metadata": {
        "id": "AcohPBmGF5Pv"
      }
    },
    {
      "cell_type": "code",
      "source": [
        "numeric_hr = data.select_dtypes(include=[np.number])\n",
        "\n",
        "# Complete the correlation matrix\n",
        "corr = numeric_hr._get_numeric_data().corr()\n",
        "\n",
        "# Generate a mask for the upper triangle\n",
        "mask = np.zeros_like(corr, dtype=np.bool)\n",
        "mask[np.triu_indices_from(mask)] = True\n",
        "\n",
        "# Set up the matplotlib figure\n",
        "f, ax = plt.subplots(figsize=(11, 9))\n",
        "\n",
        "# Generate a custom diverging colormap\n",
        "cmap = sns.diverging_palette(220, 10, as_cmap=True)\n",
        "\n",
        "# Draw the heatmap with the mask and correct aspect ratio\n",
        "heatmap = sns.heatmap(corr, mask=mask, cmap=cmap, center=0.0,\n",
        "                      vmax = 1, square=True, linewidths=.5, ax=ax)\n",
        "plt.show()"
      ],
      "metadata": {
        "colab": {
          "base_uri": "https://localhost:8080/",
          "height": 656
        },
        "id": "7nchJ2slkdQR",
        "outputId": "3a13872b-b460-4228-83fc-a9f4399eee68"
      },
      "execution_count": null,
      "outputs": [
        {
          "output_type": "display_data",
          "data": {
            "image/png": "[encoded data removed]",
            "text/plain": [
              "<Figure size 792x648 with 2 Axes>"
            ]
          },
          "metadata": {
            "needs_background": "light"
          }
        }
      ]
    },
    {
      "cell_type": "markdown",
      "source": [
        "## Clustering & Dimension reduction"
      ],
      "metadata": {
        "id": "VKpJppbfDEOj"
      }
    },
    {
      "cell_type": "markdown",
      "source": [
        "At first, we have to get rid of the categorical variables with strings as values, and transform the data, so that they have similar scale."
      ],
      "metadata": {
        "id": "ouuuZKuoJUUy"
      }
    },
    {
      "cell_type": "code",
      "source": [
        "dummies = pd.get_dummies(data)\n",
        "\n",
        "X = dummies.values\n",
        "\n",
        "scaled_data = StandardScaler().fit_transform(X)"
      ],
      "metadata": {
        "id": "KZo8SSRyErJK"
      },
      "execution_count": null,
      "outputs": []
    },
    {
      "cell_type": "markdown",
      "source": [
        "For dimensionality reduction, I decided to use UMAP (Uniform Manifold Approximation and projection). It is a dimesion reduction technique, that is mainly used for visualisation. Compared to other methods, it is pretty fast. \n",
        "\n",
        "![Screenshot 2021-12-26 at 11.02.12.png](data:image/png;base64,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)"
      ],
      "metadata": {
        "id": "V-NA9-pnJ4-p"
      }
    },
    {
      "cell_type": "markdown",
      "source": [
        "From the original space it finds the relationships. Then it creates a new space where the topology of the original points is respected (original image from UMAP documentation).\n",
        "\n",
        "**Parameters**\n",
        "\n",
        "`n_neighbors`: This parameter controls how UMAP balances local versus global structure in the data. It does this by constraining the size of the local neighborhood UMAP. Increasing the parameter leads to better retaining global structure.\n",
        "\n",
        "`min_dist`: controls how tightly UMAP is allowed to pack points together. It, quite literally, provides the minimum distance apart that points are allowed to be in the low dimensional representation."
      ],
      "metadata": {
        "id": "YJ5BFZRKGpFe"
      }
    },
    {
      "cell_type": "code",
      "source": [
        "# Crete the UMAP object\n",
        "reducer = umap.UMAP(n_neighbors=15, min_dist=0.3, n_components=2)\n",
        "\n",
        "# Use UMAP on the data\n",
        "embedding = reducer.fit_transform(scaled_data)\n",
        "print(embedding.shape)"
      ],
      "metadata": {
        "colab": {
          "base_uri": "https://localhost:8080/"
        },
        "id": "URLid89TJfuz",
        "outputId": "bedb6946-ff98-4896-bb6e-2640e9ed9382"
      },
      "execution_count": null,
      "outputs": [
        {
          "output_type": "stream",
          "name": "stdout",
          "text": [
            "(1470, 2)\n"
          ]
        }
      ]
    },
    {
      "cell_type": "markdown",
      "source": [
        "The red areas represent employees with `Attrition == Yes`, the green areas represent employees with `Attrition == No`. "
      ],
      "metadata": {
        "id": "UfAlXXm1GBjP"
      }
    },
    {
      "cell_type": "code",
      "source": [
        "color_labels = {'Yes':'red', 'No':'green'}\n",
        "\n",
        "plt.figure(figsize=(8, 6))\n",
        "\n",
        "# Scatter plot of the 2D embeddings as (x,y) values\n",
        "plt.scatter(\n",
        "    embedding[:, 0],\n",
        "    embedding[:, 1],\n",
        "    c = [color_labels[x] for x in data.Attrition]\n",
        "    )"
      ],
      "metadata": {
        "colab": {
          "base_uri": "https://localhost:8080/",
          "height": 391
        },
        "id": "f01UjWgy3zHf",
        "outputId": "ed30b3a2-0a07-43f5-d711-4f95a0ee7103"
      },
      "execution_count": null,
      "outputs": [
        {
          "output_type": "execute_result",
          "data": {
            "text/plain": [
              "<matplotlib.collections.PathCollection at 0x7f70e7eb1ed0>"
            ]
          },
          "metadata": {},
          "execution_count": 68
        },
        {
          "output_type": "display_data",
          "data": {
            "image/png": "[encoded data removed]",
            "text/plain": [
              "<Figure size 576x432 with 1 Axes>"
            ]
          },
          "metadata": {
            "needs_background": "light"
          }
        }
      ]
    },
    {
      "cell_type": "markdown",
      "source": [
        "**Density-based spatial clustering of applications with noise (DBSCAN)**\n",
        "Given a set of points in some space, it groups together points that are closely packed together (points with many nearby neighbors), marking as outliers points that lie alone in low-density regions (whose nearest neighbors are too far away).\n",
        "\n",
        "![400px-DBSCAN-Illustration.svg.png](data:image/png;base64,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)\n",
        "\n",
        "I chose DBSCAN as a clustering method, due to the table in the scikit-learn documentation. https://scikit-learn.org/stable/modules/clustering.html\n",
        "\n",
        "In the table, there are various clustering methods, but the usecase fits the best for **DBSCAN** - the clusters have uneven sizes, there are not many clusters. Therefore I decided to use it."
      ],
      "metadata": {
        "id": "AZD429IYHiGm"
      }
    },
    {
      "cell_type": "code",
      "source": [
        "# For estimatino of th epsilon in DBSCAN.\n",
        "# The elbow points should be good epsilon values.\n",
        "from sklearn.neighbors import NearestNeighbors\n",
        "nearest_neighbors = NearestNeighbors(n_neighbors=5)\n",
        "neighbors = nearest_neighbors.fit(scaled_data)\n",
        "distances, indices = neighbors.kneighbors(scaled_data)\n",
        "distances = np.sort(distances[:,4], axis=0)\n",
        "fig = plt.figure(figsize=(5, 5))\n",
        "plt.plot(distances)\n",
        "plt.xlabel(\"Points\")\n",
        "plt.ylabel(\"Distance\")\n",
        "plt.show()"
      ],
      "metadata": {
        "colab": {
          "base_uri": "https://localhost:8080/",
          "height": 334
        },
        "id": "ksPdiAemOGcB",
        "outputId": "aff7c61a-c917-49d4-c4d1-1bbbc21af242"
      },
      "execution_count": null,
      "outputs": [
        {
          "output_type": "display_data",
          "data": {
            "image/png": "[encoded data removed]",
            "text/plain": [
              "<Figure size 360x360 with 1 Axes>"
            ]
          },
          "metadata": {
            "needs_background": "light"
          }
        }
      ]
    },
    {
      "cell_type": "code",
      "source": [
        "# Fit the data using DBSCAN\n",
        "clustering = DBSCAN(eps=6.86, min_samples=80).fit(scaled_data)\n",
        "print(np.unique(clustering.labels_))\n",
        "print(data[clustering.labels_ == -1].groupby(\"Attrition\")[\"Attrition\"].count())\n",
        "print(data[clustering.labels_ == 0].groupby(\"Attrition\")[\"Attrition\"].count())\n",
        "print()\n",
        "print(f\"DBSCAN clustering error rate: {100*((466+62)/len(data)):.2f}%\")"
      ],
      "metadata": {
        "colab": {
          "base_uri": "https://localhost:8080/"
        },
        "id": "Wr-oHqM55RZU",
        "outputId": "88fb3287-86a9-46a9-afcc-20032e9cd92a"
      },
      "execution_count": null,
      "outputs": [
        {
          "output_type": "stream",
          "name": "stdout",
          "text": [
            "[-1  0]\n",
            "Attrition\n",
            "No     466\n",
            "Yes    175\n",
            "Name: Attrition, dtype: int64\n",
            "Attrition\n",
            "No     767\n",
            "Yes     62\n",
            "Name: Attrition, dtype: int64\n",
            "\n",
            "DBSCAN clustering error rate: 35.92%\n"
          ]
        }
      ]
    },
    {
      "cell_type": "code",
      "source": [
        "print(f\"clustering error rate: {100*((237)/1470):.2f}%\")"
      ],
      "metadata": {
        "colab": {
          "base_uri": "https://localhost:8080/"
        },
        "id": "Ua6AgfTMcoq-",
        "outputId": "f8c1aaac-a9e8-4d33-cf9e-6babf1b7f77e"
      },
      "execution_count": null,
      "outputs": [
        {
          "output_type": "stream",
          "name": "stdout",
          "text": [
            "clustering error rate: 16.12%\n"
          ]
        }
      ]
    },
    {
      "cell_type": "code",
      "source": [
        "# Assign a color to each DBSCAN cluster label\n",
        "color_labels2 = {-1: 'blue', 0: 'red'}\n",
        "\n",
        "# Create a figure\n",
        "plt.figure(figsize=(8, 6))\n",
        "\n",
        "# Scatter plot of the 2D embeddings as (x,y) values\n",
        "plt.scatter(\n",
        "    embedding[:, 0],\n",
        "    embedding[:, 1],\n",
        "    c = [color_labels2[x] for x in list(clustering.labels_)]\n",
        "    )\n",
        "\n",
        "# plt.gca().set_aspect('equal', 'datalim')\n",
        "plt.title('UMAP projection colored by\\n DBSCAN cluster', fontsize=20);"
      ],
      "metadata": {
        "colab": {
          "base_uri": "https://localhost:8080/",
          "height": 417
        },
        "id": "zwQydZHE5ZcB",
        "outputId": "4d764417-d937-4055-f4f1-ed16c22077ee"
      },
      "execution_count": null,
      "outputs": [
        {
          "output_type": "display_data",
          "data": {
            "image/png": "[encoded data removed]",
            "text/plain": [
              "<Figure size 576x432 with 1 Axes>"
            ]
          },
          "metadata": {
            "needs_background": "light"
          }
        }
      ]
    },
    {
      "cell_type": "code",
      "source": [
        "from sklearn.cluster import KMeans\n",
        "kmeans = KMeans(n_clusters=2).fit(X)\n",
        "print(data[kmeans.labels_ == 0].groupby(\"Attrition\")[\"Attrition\"].count())\n",
        "print()\n",
        "print(data[kmeans.labels_ == 1].groupby(\"Attrition\")[\"Attrition\"].count())"
      ],
      "metadata": {
        "colab": {
          "base_uri": "https://localhost:8080/"
        },
        "id": "lt-u8VxNQ7vt",
        "outputId": "00b4d858-08bb-45a8-d934-c24f4d79d073"
      },
      "execution_count": null,
      "outputs": [
        {
          "output_type": "stream",
          "name": "stdout",
          "text": [
            "Attrition\n",
            "No     605\n",
            "Yes    119\n",
            "Name: Attrition, dtype: int64\n",
            "\n",
            "Attrition\n",
            "No     628\n",
            "Yes    118\n",
            "Name: Attrition, dtype: int64\n"
          ]
        }
      ]
    },
    {
      "cell_type": "markdown",
      "source": [
        "## Summary on clustering\n",
        "I didn't manage to perform a clustering that would really fit the data properly. Probably it is because the data has been generated, and are not real. The closest I got was with the DBSCAN algorithm, but the error rate is still terrible."
      ],
      "metadata": {
        "id": "AOewVl68Ucxa"
      }
    },
    {
      "cell_type": "markdown",
      "source": [
        "# Hypotheses testing"
      ],
      "metadata": {
        "id": "skz3l65PBJOa"
      }
    },
    {
      "cell_type": "markdown",
      "source": [
        "### Hypothesis 1\n",
        "\n",
        "\n",
        "I noticed, that it is very rare that the variables follow normal distribution. Let's see if there are some, which actually have the normal distribution.\n",
        "I will check the distribution for continuos features. I would consider the following features continuous:\n",
        "```\n",
        "Age, DailyRate, DistanceFromHome, HourlyRate, MonthlyIncome, MonthlyRate, PercentSalaryHike, YearsAtCompany, YearsInCurrentRole, YearsSinceLastPromotion and YearsWithCurrManager\n",
        "```\n",
        "\n",
        "H0: At least one variable has normal distribution.\n",
        "\n",
        "H1: No variables has normal distribution.\n",
        "\n",
        "α-level: 5%"
      ],
      "metadata": {
        "id": "hyEb3olwXubJ"
      }
    },
    {
      "cell_type": "markdown",
      "source": [
        "I will use the Shapiro-Wilk tests. For this test, the null hypothesis is, that the data follow normal distribution. The test does not reject the null hypothesis, when the p-value is **higher** than the chosen alpha level."
      ],
      "metadata": {
        "id": "ZnI2yJtuaSUF"
      }
    },
    {
      "cell_type": "code",
      "source": [
        "from scipy.stats import shapiro\n",
        "alpha = 0.05\n",
        "for col in ['Age','DailyRate','DistanceFromHome','HourlyRate','MonthlyIncome','MonthlyRate','PercentSalaryHike', 'YearsAtCompany', 'YearsInCurrentRole', 'YearsSinceLastPromotion', 'YearsWithCurrManager']:\n",
        "    result=shapiro(data[col])\n",
        "    print('P-value for the ' + col + ' variable = ' + str(result[1]))\n",
        "    if result[1] < alpha:\n",
        "      print('Reject H0 for variable:', col)\n",
        "    else:\n",
        "      print('Cannot reject H0 for variable:', col)\n",
        "    "
      ],
      "metadata": {
        "colab": {
          "base_uri": "https://localhost:8080/"
        },
        "id": "FROp3fBoZ8Zv",
        "outputId": "896e2584-95c3-4e16-aca8-e6418c0b93a8"
      },
      "execution_count": null,
      "outputs": [
        {
          "output_type": "stream",
          "name": "stdout",
          "text": [
            "P-value for the Age variable = 2.0348782405724304e-14\n",
            "Reject H0 for variable: Age\n",
            "P-value for the DailyRate variable = 5.33020646444966e-21\n",
            "Reject H0 for variable: DailyRate\n",
            "P-value for the DistanceFromHome variable = 4.085665715153025e-34\n",
            "Reject H0 for variable: DistanceFromHome\n",
            "P-value for the HourlyRate variable = 7.414142614934963e-21\n",
            "Reject H0 for variable: HourlyRate\n",
            "P-value for the MonthlyIncome variable = 4.403282003619775e-37\n",
            "Reject H0 for variable: MonthlyIncome\n",
            "P-value for the MonthlyRate variable = 5.515456551467108e-21\n",
            "Reject H0 for variable: MonthlyRate\n",
            "P-value for the PercentSalaryHike variable = 7.476110216992445e-30\n",
            "Reject H0 for variable: PercentSalaryHike\n",
            "P-value for the YearsAtCompany variable = 3.669912519577708e-36\n",
            "Reject H0 for variable: YearsAtCompany\n",
            "P-value for the YearsInCurrentRole variable = 2.140164071943242e-30\n",
            "Reject H0 for variable: YearsInCurrentRole\n",
            "P-value for the YearsSinceLastPromotion variable = 4.203895392974451e-45\n",
            "Reject H0 for variable: YearsSinceLastPromotion\n",
            "P-value for the YearsWithCurrManager variable = 3.0581510567715727e-30\n",
            "Reject H0 for variable: YearsWithCurrManager\n"
          ]
        }
      ]
    },
    {
      "cell_type": "markdown",
      "source": [
        "From the results of Shapiro tests, we can see, that none of the continuous variables do follow normal distribution.\n",
        "\n",
        " **Therefore we can reject the null hypothesis.**\n",
        "\n",
        " This can also be the"
      ],
      "metadata": {
        "id": "OZUZB0NMcz13"
      }
    },
    {
      "cell_type": "markdown",
      "source": [
        "### Hypothesis 2"
      ],
      "metadata": {
        "id": "uPERLfLuX2Wq"
      }
    },
    {
      "cell_type": "markdown",
      "source": [
        "In the exploratory analysis of `DistanceFromHome` variable, I noticed that the distribution for `Attrition == Yes` and `Attrition == No` is not similar. The Kolmogrov-Smirnov test can be used to test wether the two distributions really are not similar. The KS test can only be used for continuous distribution. If the KS statistic is small or the p-value is high, then we cannot reject the null hypothesis in favor of the alternative. If the KS statistic is small or the p-value is high, then we cannot reject the null hypothesis in favor of the alternative.\n",
        "\n",
        "http://www.mit.edu/~6.s085/notes/lecture5.pdf\n",
        "\n",
        "https://docs.scipy.org/doc/scipy/reference/generated/scipy.stats.ks_2samp.html#scipy.stats.ks_2samp\n",
        "\n",
        "H0: Distributions of DistanceFromHome are similar in the two attrition groups.\n",
        "\n",
        "H1: Distributions of DistanceFromHome are **NOT** similar in the two attrition groups.\n",
        "\n",
        "α-level: 5%"
      ],
      "metadata": {
        "id": "Ko9tjI2BdkKN"
      }
    },
    {
      "cell_type": "code",
      "source": [
        "from scipy import stats\n",
        "\n",
        "data_no = data.DistanceFromHome[data.Attrition=='No']\n",
        "data_yes = data.DistanceFromHome[data.Attrition=='Yes']\n",
        "\n",
        "stats.ks_2samp(data_no, data_yes)"
      ],
      "metadata": {
        "colab": {
          "base_uri": "https://localhost:8080/"
        },
        "id": "ATmBHV9W3Ii8",
        "outputId": "00971d82-2919-4a0c-bf4c-dd4d71175d2c"
      },
      "execution_count": null,
      "outputs": [
        {
          "output_type": "execute_result",
          "data": {
            "text/plain": [
              "Ks_2sampResult(statistic=0.11493013849107353, pvalue=0.009527282524932623)"
            ]
          },
          "metadata": {},
          "execution_count": 32
        }
      ]
    },
    {
      "cell_type": "markdown",
      "source": [
        "The p-value of the KS test is `0.009`, which is less than the alpha level. Therefore we can **reject the null hypothesis**, which confirms the results of the exploratory analysis."
      ],
      "metadata": {
        "id": "lNQQThgV_qZr"
      }
    },
    {
      "cell_type": "markdown",
      "source": [
        "### Hypothesis 3"
      ],
      "metadata": {
        "id": "H3HC3lolX4T8"
      }
    },
    {
      "cell_type": "markdown",
      "source": [
        "The 3rd hypothesis will test, wether `Overtime` variable is significant variable for predicting Attrition. I will use the chi-square test of independence to check if these two variables are likely to be related. For the test we need two categorical variables. The null hypothesis for this test is that there is no relationship between the two variables.\n",
        "\n",
        "\n",
        "H0: There is no relationship between `Overtime` and `Attrition` variables.\n",
        "\n",
        "H1: There exists a relationship between `Overtime` and `Attrition` variables.\n",
        "\n",
        "α-level: 5%\n"
      ],
      "metadata": {
        "id": "ENocBT_SAQQM"
      }
    },
    {
      "cell_type": "code",
      "source": [
        "# Frequency of Attrition\n",
        "a_yes = data.Attrition[data.Attrition=='Yes'].count()\n",
        "a_no = data.Attrition[data.Attrition=='No'].count()\n",
        "\n",
        "# Frequency of Overtime\n",
        "o_yes = data.OverTime[data.OverTime=='Yes'].count()\n",
        "o_no = data.OverTime[data.OverTime=='No'].count()\n",
        "\n",
        "print([a_yes, a_no], [o_yes, o_no])\n",
        "print()\n",
        "\n",
        "stats.chisquare([o_yes, o_no], f_exp=[a_yes, a_no])\n"
      ],
      "metadata": {
        "colab": {
          "base_uri": "https://localhost:8080/"
        },
        "id": "cNP0wyjlsUr0",
        "outputId": "40cc21f3-7290-4d06-e8ef-e31861bcc03c"
      },
      "execution_count": null,
      "outputs": [
        {
          "output_type": "stream",
          "name": "stdout",
          "text": [
            "[237, 1233] [416, 1054]\n",
            "\n"
          ]
        },
        {
          "output_type": "execute_result",
          "data": {
            "text/plain": [
              "Power_divergenceResult(statistic=161.18030531686634, pvalue=6.248439694790742e-37)"
            ]
          },
          "metadata": {},
          "execution_count": 50
        }
      ]
    },
    {
      "cell_type": "markdown",
      "source": [
        "As we can see, the resulting p-value is `6.248e-37`, which is less then the selected alpha level. Therefor we accept H1 - there is a significant relationship between `Overtime` and `Attrition`."
      ],
      "metadata": {
        "id": "-BcFnz5EvIdI"
      }
    },
    {
      "cell_type": "markdown",
      "source": [
        "#Attrition predictive model"
      ],
      "metadata": {
        "id": "9aYLoVNXBSd9"
      }
    },
    {
      "cell_type": "code",
      "source": [
        "def df_column_switch(df, column1, column2):\n",
        "    i = list(df.columns)\n",
        "    a, b = i.index(column1), i.index(column2)\n",
        "    i[b], i[a] = i[a], i[b]\n",
        "    df = df[i]\n",
        "    return df\n",
        "\n",
        "\n",
        "dummies = df_column_switch(dummies, \"Age\", \"Attrition_No\")\n",
        "dummies = df_column_switch(dummies, \"DailyRate\", \"Attrition_Yes\")\n",
        "dummies\n"
      ],
      "metadata": {
        "colab": {
          "base_uri": "https://localhost:8080/",
          "height": 505
        },
        "id": "5c3aU4xsncB_",
        "outputId": "7a421c9d-227a-4e3e-820c-07771d7ab9a0"
      },
      "execution_count": null,
      "outputs": [
        {
          "output_type": "execute_result",
          "data": {
            "text/html": [
              "\n",
              "  <div id=\"df-35d17a78-ed3a-40db-a9bc-10717f258065\">\n",
              "    <div class=\"colab-df-container\">\n",
              "      <div>\n",
              "<style scoped>\n",
              "    .dataframe tbody tr th:only-of-type {\n",
              "        vertical-align: middle;\n",
              "    }\n",
              "\n",
              "    .dataframe tbody tr th {\n",
              "        vertical-align: top;\n",
              "    }\n",
              "\n",
              "    .dataframe thead th {\n",
              "        text-align: right;\n",
              "    }\n",
              "</style>\n",
              "<table border=\"1\" class=\"dataframe\">\n",
              "  <thead>\n",
              "    <tr style=\"text-align: right;\">\n",
              "      <th></th>\n",
              "      <th>Attrition_No</th>\n",
              "      <th>Attrition_Yes</th>\n",
              "      <th>DistanceFromHome</th>\n",
              "      <th>Education</th>\n",
              "      <th>EmployeeCount</th>\n",
              "      <th>EnvironmentSatisfaction</th>\n",
              "      <th>HourlyRate</th>\n",
              "      <th>JobInvolvement</th>\n",
              "      <th>JobLevel</th>\n",
              "      <th>JobSatisfaction</th>\n",
              "      <th>MonthlyIncome</th>\n",
              "      <th>MonthlyRate</th>\n",
              "      <th>NumCompaniesWorked</th>\n",
              "      <th>PercentSalaryHike</th>\n",
              "      <th>PerformanceRating</th>\n",
              "      <th>RelationshipSatisfaction</th>\n",
              "      <th>StockOptionLevel</th>\n",
              "      <th>TotalWorkingYears</th>\n",
              "      <th>TrainingTimesLastYear</th>\n",
              "      <th>WorkLifeBalance</th>\n",
              "      <th>YearsAtCompany</th>\n",
              "      <th>YearsInCurrentRole</th>\n",
              "      <th>YearsSinceLastPromotion</th>\n",
              "      <th>YearsWithCurrManager</th>\n",
              "      <th>Age</th>\n",
              "      <th>DailyRate</th>\n",
              "      <th>BusinessTravel_Non-Travel</th>\n",
              "      <th>BusinessTravel_Travel_Frequently</th>\n",
              "      <th>BusinessTravel_Travel_Rarely</th>\n",
              "      <th>Department_Human Resources</th>\n",
              "      <th>Department_Research &amp; Development</th>\n",
              "      <th>Department_Sales</th>\n",
              "      <th>EducationField_Human Resources</th>\n",
              "      <th>EducationField_Life Sciences</th>\n",
              "      <th>EducationField_Marketing</th>\n",
              "      <th>EducationField_Medical</th>\n",
              "      <th>EducationField_Other</th>\n",
              "      <th>EducationField_Technical Degree</th>\n",
              "      <th>Gender_Female</th>\n",
              "      <th>Gender_Male</th>\n",
              "      <th>JobRole_Healthcare Representative</th>\n",
              "      <th>JobRole_Human Resources</th>\n",
              "      <th>JobRole_Laboratory Technician</th>\n",
              "      <th>JobRole_Manager</th>\n",
              "      <th>JobRole_Manufacturing Director</th>\n",
              "      <th>JobRole_Research Director</th>\n",
              "      <th>JobRole_Research Scientist</th>\n",
              "      <th>JobRole_Sales Executive</th>\n",
              "      <th>JobRole_Sales Representative</th>\n",
              "      <th>MaritalStatus_Divorced</th>\n",
              "      <th>MaritalStatus_Married</th>\n",
              "      <th>MaritalStatus_Single</th>\n",
              "      <th>OverTime_No</th>\n",
              "      <th>OverTime_Yes</th>\n",
              "    </tr>\n",
              "  </thead>\n",
              "  <tbody>\n",
              "    <tr>\n",
              "      <th>0</th>\n",
              "      <td>0</td>\n",
              "      <td>1</td>\n",
              "      <td>1</td>\n",
              "      <td>2</td>\n",
              "      <td>1</td>\n",
              "      <td>2</td>\n",
              "      <td>94</td>\n",
              "      <td>3</td>\n",
              "      <td>2</td>\n",
              "      <td>4</td>\n",
              "      <td>5993</td>\n",
              "      <td>19479</td>\n",
              "      <td>8</td>\n",
              "      <td>11</td>\n",
              "      <td>3</td>\n",
              "      <td>1</td>\n",
              "      <td>0</td>\n",
              "      <td>8</td>\n",
              "      <td>0</td>\n",
              "      <td>1</td>\n",
              "      <td>6</td>\n",
              "      <td>4</td>\n",
              "      <td>0</td>\n",
              "      <td>5</td>\n",
              "      <td>41</td>\n",
              "      <td>1102</td>\n",
              "      <td>0</td>\n",
              "      <td>0</td>\n",
              "      <td>1</td>\n",
              "      <td>0</td>\n",
              "      <td>0</td>\n",
              "      <td>1</td>\n",
              "      <td>0</td>\n",
              "      <td>1</td>\n",
              "      <td>0</td>\n",
              "      <td>0</td>\n",
              "      <td>0</td>\n",
              "      <td>0</td>\n",
              "      <td>1</td>\n",
              "      <td>0</td>\n",
              "      <td>0</td>\n",
              "      <td>0</td>\n",
              "      <td>0</td>\n",
              "      <td>0</td>\n",
              "      <td>0</td>\n",
              "      <td>0</td>\n",
              "      <td>0</td>\n",
              "      <td>1</td>\n",
              "      <td>0</td>\n",
              "      <td>0</td>\n",
              "      <td>0</td>\n",
              "      <td>1</td>\n",
              "      <td>0</td>\n",
              "      <td>1</td>\n",
              "    </tr>\n",
              "    <tr>\n",
              "      <th>1</th>\n",
              "      <td>1</td>\n",
              "      <td>0</td>\n",
              "      <td>8</td>\n",
              "      <td>1</td>\n",
              "      <td>1</td>\n",
              "      <td>3</td>\n",
              "      <td>61</td>\n",
              "      <td>2</td>\n",
              "      <td>2</td>\n",
              "      <td>2</td>\n",
              "      <td>5130</td>\n",
              "      <td>24907</td>\n",
              "      <td>1</td>\n",
              "      <td>23</td>\n",
              "      <td>4</td>\n",
              "      <td>4</td>\n",
              "      <td>1</td>\n",
              "      <td>10</td>\n",
              "      <td>3</td>\n",
              "      <td>3</td>\n",
              "      <td>10</td>\n",
              "      <td>7</td>\n",
              "      <td>1</td>\n",
              "      <td>7</td>\n",
              "      <td>49</td>\n",
              "      <td>279</td>\n",
              "      <td>0</td>\n",
              "      <td>1</td>\n",
              "      <td>0</td>\n",
              "      <td>0</td>\n",
              "      <td>1</td>\n",
              "      <td>0</td>\n",
              "      <td>0</td>\n",
              "      <td>1</td>\n",
              "      <td>0</td>\n",
              "      <td>0</td>\n",
              "      <td>0</td>\n",
              "      <td>0</td>\n",
              "      <td>0</td>\n",
              "      <td>1</td>\n",
              "      <td>0</td>\n",
              "      <td>0</td>\n",
              "      <td>0</td>\n",
              "      <td>0</td>\n",
              "      <td>0</td>\n",
              "      <td>0</td>\n",
              "      <td>1</td>\n",
              "      <td>0</td>\n",
              "      <td>0</td>\n",
              "      <td>0</td>\n",
              "      <td>1</td>\n",
              "      <td>0</td>\n",
              "      <td>1</td>\n",
              "      <td>0</td>\n",
              "    </tr>\n",
              "    <tr>\n",
              "      <th>2</th>\n",
              "      <td>0</td>\n",
              "      <td>1</td>\n",
              "      <td>2</td>\n",
              "      <td>2</td>\n",
              "      <td>1</td>\n",
              "      <td>4</td>\n",
              "      <td>92</td>\n",
              "      <td>2</td>\n",
              "      <td>1</td>\n",
              "      <td>3</td>\n",
              "      <td>2090</td>\n",
              "      <td>2396</td>\n",
              "      <td>6</td>\n",
              "      <td>15</td>\n",
              "      <td>3</td>\n",
              "      <td>2</td>\n",
              "      <td>0</td>\n",
              "      <td>7</td>\n",
              "      <td>3</td>\n",
              "      <td>3</td>\n",
              "      <td>0</td>\n",
              "      <td>0</td>\n",
              "      <td>0</td>\n",
              "      <td>0</td>\n",
              "      <td>37</td>\n",
              "      <td>1373</td>\n",
              "      <td>0</td>\n",
              "      <td>0</td>\n",
              "      <td>1</td>\n",
              "      <td>0</td>\n",
              "      <td>1</td>\n",
              "      <td>0</td>\n",
              "      <td>0</td>\n",
              "      <td>0</td>\n",
              "      <td>0</td>\n",
              "      <td>0</td>\n",
              "      <td>1</td>\n",
              "      <td>0</td>\n",
              "      <td>0</td>\n",
              "      <td>1</td>\n",
              "      <td>0</td>\n",
              "      <td>0</td>\n",
              "      <td>1</td>\n",
              "      <td>0</td>\n",
              "      <td>0</td>\n",
              "      <td>0</td>\n",
              "      <td>0</td>\n",
              "      <td>0</td>\n",
              "      <td>0</td>\n",
              "      <td>0</td>\n",
              "      <td>0</td>\n",
              "      <td>1</td>\n",
              "      <td>0</td>\n",
              "      <td>1</td>\n",
              "    </tr>\n",
              "    <tr>\n",
              "      <th>3</th>\n",
              "      <td>1</td>\n",
              "      <td>0</td>\n",
              "      <td>3</td>\n",
              "      <td>4</td>\n",
              "      <td>1</td>\n",
              "      <td>4</td>\n",
              "      <td>56</td>\n",
              "      <td>3</td>\n",
              "      <td>1</td>\n",
              "      <td>3</td>\n",
              "      <td>2909</td>\n",
              "      <td>23159</td>\n",
              "      <td>1</td>\n",
              "      <td>11</td>\n",
              "      <td>3</td>\n",
              "      <td>3</td>\n",
              "      <td>0</td>\n",
              "      <td>8</td>\n",
              "      <td>3</td>\n",
              "      <td>3</td>\n",
              "      <td>8</td>\n",
              "      <td>7</td>\n",
              "      <td>3</td>\n",
              "      <td>0</td>\n",
              "      <td>33</td>\n",
              "      <td>1392</td>\n",
              "      <td>0</td>\n",
              "      <td>1</td>\n",
              "      <td>0</td>\n",
              "      <td>0</td>\n",
              "      <td>1</td>\n",
              "      <td>0</td>\n",
              "      <td>0</td>\n",
              "      <td>1</td>\n",
              "      <td>0</td>\n",
              "      <td>0</td>\n",
              "      <td>0</td>\n",
              "      <td>0</td>\n",
              "      <td>1</td>\n",
              "      <td>0</td>\n",
              "      <td>0</td>\n",
              "      <td>0</td>\n",
              "      <td>0</td>\n",
              "      <td>0</td>\n",
              "      <td>0</td>\n",
              "      <td>0</td>\n",
              "      <td>1</td>\n",
              "      <td>0</td>\n",
              "      <td>0</td>\n",
              "      <td>0</td>\n",
              "      <td>1</td>\n",
              "      <td>0</td>\n",
              "      <td>0</td>\n",
              "      <td>1</td>\n",
              "    </tr>\n",
              "    <tr>\n",
              "      <th>4</th>\n",
              "      <td>1</td>\n",
              "      <td>0</td>\n",
              "      <td>2</td>\n",
              "      <td>1</td>\n",
              "      <td>1</td>\n",
              "      <td>1</td>\n",
              "      <td>40</td>\n",
              "      <td>3</td>\n",
              "      <td>1</td>\n",
              "      <td>2</td>\n",
              "      <td>3468</td>\n",
              "      <td>16632</td>\n",
              "      <td>9</td>\n",
              "      <td>12</td>\n",
              "      <td>3</td>\n",
              "      <td>4</td>\n",
              "      <td>1</td>\n",
              "      <td>6</td>\n",
              "      <td>3</td>\n",
              "      <td>3</td>\n",
              "      <td>2</td>\n",
              "      <td>2</td>\n",
              "      <td>2</td>\n",
              "      <td>2</td>\n",
              "      <td>27</td>\n",
              "      <td>591</td>\n",
              "      <td>0</td>\n",
              "      <td>0</td>\n",
              "      <td>1</td>\n",
              "      <td>0</td>\n",
              "      <td>1</td>\n",
              "      <td>0</td>\n",
              "      <td>0</td>\n",
              "      <td>0</td>\n",
              "      <td>0</td>\n",
              "      <td>1</td>\n",
              "      <td>0</td>\n",
              "      <td>0</td>\n",
              "      <td>0</td>\n",
              "      <td>1</td>\n",
              "      <td>0</td>\n",
              "      <td>0</td>\n",
              "      <td>1</td>\n",
              "      <td>0</td>\n",
              "      <td>0</td>\n",
              "      <td>0</td>\n",
              "      <td>0</td>\n",
              "      <td>0</td>\n",
              "      <td>0</td>\n",
              "      <td>0</td>\n",
              "      <td>1</td>\n",
              "      <td>0</td>\n",
              "      <td>1</td>\n",
              "      <td>0</td>\n",
              "    </tr>\n",
              "    <tr>\n",
              "      <th>...</th>\n",
              "      <td>...</td>\n",
              "      <td>...</td>\n",
              "      <td>...</td>\n",
              "      <td>...</td>\n",
              "      <td>...</td>\n",
              "      <td>...</td>\n",
              "      <td>...</td>\n",
              "      <td>...</td>\n",
              "      <td>...</td>\n",
              "      <td>...</td>\n",
              "      <td>...</td>\n",
              "      <td>...</td>\n",
              "      <td>...</td>\n",
              "      <td>...</td>\n",
              "      <td>...</td>\n",
              "      <td>...</td>\n",
              "      <td>...</td>\n",
              "      <td>...</td>\n",
              "      <td>...</td>\n",
              "      <td>...</td>\n",
              "      <td>...</td>\n",
              "      <td>...</td>\n",
              "      <td>...</td>\n",
              "      <td>...</td>\n",
              "      <td>...</td>\n",
              "      <td>...</td>\n",
              "      <td>...</td>\n",
              "      <td>...</td>\n",
              "      <td>...</td>\n",
              "      <td>...</td>\n",
              "      <td>...</td>\n",
              "      <td>...</td>\n",
              "      <td>...</td>\n",
              "      <td>...</td>\n",
              "      <td>...</td>\n",
              "      <td>...</td>\n",
              "      <td>...</td>\n",
              "      <td>...</td>\n",
              "      <td>...</td>\n",
              "      <td>...</td>\n",
              "      <td>...</td>\n",
              "      <td>...</td>\n",
              "      <td>...</td>\n",
              "      <td>...</td>\n",
              "      <td>...</td>\n",
              "      <td>...</td>\n",
              "      <td>...</td>\n",
              "      <td>...</td>\n",
              "      <td>...</td>\n",
              "      <td>...</td>\n",
              "      <td>...</td>\n",
              "      <td>...</td>\n",
              "      <td>...</td>\n",
              "      <td>...</td>\n",
              "    </tr>\n",
              "    <tr>\n",
              "      <th>1465</th>\n",
              "      <td>1</td>\n",
              "      <td>0</td>\n",
              "      <td>23</td>\n",
              "      <td>2</td>\n",
              "      <td>1</td>\n",
              "      <td>3</td>\n",
              "      <td>41</td>\n",
              "      <td>4</td>\n",
              "      <td>2</td>\n",
              "      <td>4</td>\n",
              "      <td>2571</td>\n",
              "      <td>12290</td>\n",
              "      <td>4</td>\n",
              "      <td>17</td>\n",
              "      <td>3</td>\n",
              "      <td>3</td>\n",
              "      <td>1</td>\n",
              "      <td>17</td>\n",
              "      <td>3</td>\n",
              "      <td>3</td>\n",
              "      <td>5</td>\n",
              "      <td>2</td>\n",
              "      <td>0</td>\n",
              "      <td>3</td>\n",
              "      <td>36</td>\n",
              "      <td>884</td>\n",
              "      <td>0</td>\n",
              "      <td>1</td>\n",
              "      <td>0</td>\n",
              "      <td>0</td>\n",
              "      <td>1</td>\n",
              "      <td>0</td>\n",
              "      <td>0</td>\n",
              "      <td>0</td>\n",
              "      <td>0</td>\n",
              "      <td>1</td>\n",
              "      <td>0</td>\n",
              "      <td>0</td>\n",
              "      <td>0</td>\n",
              "      <td>1</td>\n",
              "      <td>0</td>\n",
              "      <td>0</td>\n",
              "      <td>1</td>\n",
              "      <td>0</td>\n",
              "      <td>0</td>\n",
              "      <td>0</td>\n",
              "      <td>0</td>\n",
              "      <td>0</td>\n",
              "      <td>0</td>\n",
              "      <td>0</td>\n",
              "      <td>1</td>\n",
              "      <td>0</td>\n",
              "      <td>1</td>\n",
              "      <td>0</td>\n",
              "    </tr>\n",
              "    <tr>\n",
              "      <th>1466</th>\n",
              "      <td>1</td>\n",
              "      <td>0</td>\n",
              "      <td>6</td>\n",
              "      <td>1</td>\n",
              "      <td>1</td>\n",
              "      <td>4</td>\n",
              "      <td>42</td>\n",
              "      <td>2</td>\n",
              "      <td>3</td>\n",
              "      <td>1</td>\n",
              "      <td>9991</td>\n",
              "      <td>21457</td>\n",
              "      <td>4</td>\n",
              "      <td>15</td>\n",
              "      <td>3</td>\n",
              "      <td>1</td>\n",
              "      <td>1</td>\n",
              "      <td>9</td>\n",
              "      <td>5</td>\n",
              "      <td>3</td>\n",
              "      <td>7</td>\n",
              "      <td>7</td>\n",
              "      <td>1</td>\n",
              "      <td>7</td>\n",
              "      <td>39</td>\n",
              "      <td>613</td>\n",
              "      <td>0</td>\n",
              "      <td>0</td>\n",
              "      <td>1</td>\n",
              "      <td>0</td>\n",
              "      <td>1</td>\n",
              "      <td>0</td>\n",
              "      <td>0</td>\n",
              "      <td>0</td>\n",
              "      <td>0</td>\n",
              "      <td>1</td>\n",
              "      <td>0</td>\n",
              "      <td>0</td>\n",
              "      <td>0</td>\n",
              "      <td>1</td>\n",
              "      <td>1</td>\n",
              "      <td>0</td>\n",
              "      <td>0</td>\n",
              "      <td>0</td>\n",
              "      <td>0</td>\n",
              "      <td>0</td>\n",
              "      <td>0</td>\n",
              "      <td>0</td>\n",
              "      <td>0</td>\n",
              "      <td>0</td>\n",
              "      <td>1</td>\n",
              "      <td>0</td>\n",
              "      <td>1</td>\n",
              "      <td>0</td>\n",
              "    </tr>\n",
              "    <tr>\n",
              "      <th>1467</th>\n",
              "      <td>1</td>\n",
              "      <td>0</td>\n",
              "      <td>4</td>\n",
              "      <td>3</td>\n",
              "      <td>1</td>\n",
              "      <td>2</td>\n",
              "      <td>87</td>\n",
              "      <td>4</td>\n",
              "      <td>2</td>\n",
              "      <td>2</td>\n",
              "      <td>6142</td>\n",
              "      <td>5174</td>\n",
              "      <td>1</td>\n",
              "      <td>20</td>\n",
              "      <td>4</td>\n",
              "      <td>2</td>\n",
              "      <td>1</td>\n",
              "      <td>6</td>\n",
              "      <td>0</td>\n",
              "      <td>3</td>\n",
              "      <td>6</td>\n",
              "      <td>2</td>\n",
              "      <td>0</td>\n",
              "      <td>3</td>\n",
              "      <td>27</td>\n",
              "      <td>155</td>\n",
              "      <td>0</td>\n",
              "      <td>0</td>\n",
              "      <td>1</td>\n",
              "      <td>0</td>\n",
              "      <td>1</td>\n",
              "      <td>0</td>\n",
              "      <td>0</td>\n",
              "      <td>1</td>\n",
              "      <td>0</td>\n",
              "      <td>0</td>\n",
              "      <td>0</td>\n",
              "      <td>0</td>\n",
              "      <td>0</td>\n",
              "      <td>1</td>\n",
              "      <td>0</td>\n",
              "      <td>0</td>\n",
              "      <td>0</td>\n",
              "      <td>0</td>\n",
              "      <td>1</td>\n",
              "      <td>0</td>\n",
              "      <td>0</td>\n",
              "      <td>0</td>\n",
              "      <td>0</td>\n",
              "      <td>0</td>\n",
              "      <td>1</td>\n",
              "      <td>0</td>\n",
              "      <td>0</td>\n",
              "      <td>1</td>\n",
              "    </tr>\n",
              "    <tr>\n",
              "      <th>1468</th>\n",
              "      <td>1</td>\n",
              "      <td>0</td>\n",
              "      <td>2</td>\n",
              "      <td>3</td>\n",
              "      <td>1</td>\n",
              "      <td>4</td>\n",
              "      <td>63</td>\n",
              "      <td>2</td>\n",
              "      <td>2</td>\n",
              "      <td>2</td>\n",
              "      <td>5390</td>\n",
              "      <td>13243</td>\n",
              "      <td>2</td>\n",
              "      <td>14</td>\n",
              "      <td>3</td>\n",
              "      <td>4</td>\n",
              "      <td>0</td>\n",
              "      <td>17</td>\n",
              "      <td>3</td>\n",
              "      <td>2</td>\n",
              "      <td>9</td>\n",
              "      <td>6</td>\n",
              "      <td>0</td>\n",
              "      <td>8</td>\n",
              "      <td>49</td>\n",
              "      <td>1023</td>\n",
              "      <td>0</td>\n",
              "      <td>1</td>\n",
              "      <td>0</td>\n",
              "      <td>0</td>\n",
              "      <td>0</td>\n",
              "      <td>1</td>\n",
              "      <td>0</td>\n",
              "      <td>0</td>\n",
              "      <td>0</td>\n",
              "      <td>1</td>\n",
              "      <td>0</td>\n",
              "      <td>0</td>\n",
              "      <td>0</td>\n",
              "      <td>1</td>\n",
              "      <td>0</td>\n",
              "      <td>0</td>\n",
              "      <td>0</td>\n",
              "      <td>0</td>\n",
              "      <td>0</td>\n",
              "      <td>0</td>\n",
              "      <td>0</td>\n",
              "      <td>1</td>\n",
              "      <td>0</td>\n",
              "      <td>0</td>\n",
              "      <td>1</td>\n",
              "      <td>0</td>\n",
              "      <td>1</td>\n",
              "      <td>0</td>\n",
              "    </tr>\n",
              "    <tr>\n",
              "      <th>1469</th>\n",
              "      <td>1</td>\n",
              "      <td>0</td>\n",
              "      <td>8</td>\n",
              "      <td>3</td>\n",
              "      <td>1</td>\n",
              "      <td>2</td>\n",
              "      <td>82</td>\n",
              "      <td>4</td>\n",
              "      <td>2</td>\n",
              "      <td>3</td>\n",
              "      <td>4404</td>\n",
              "      <td>10228</td>\n",
              "      <td>2</td>\n",
              "      <td>12</td>\n",
              "      <td>3</td>\n",
              "      <td>1</td>\n",
              "      <td>0</td>\n",
              "      <td>6</td>\n",
              "      <td>3</td>\n",
              "      <td>4</td>\n",
              "      <td>4</td>\n",
              "      <td>3</td>\n",
              "      <td>1</td>\n",
              "      <td>2</td>\n",
              "      <td>34</td>\n",
              "      <td>628</td>\n",
              "      <td>0</td>\n",
              "      <td>0</td>\n",
              "      <td>1</td>\n",
              "      <td>0</td>\n",
              "      <td>1</td>\n",
              "      <td>0</td>\n",
              "      <td>0</td>\n",
              "      <td>0</td>\n",
              "      <td>0</td>\n",
              "      <td>1</td>\n",
              "      <td>0</td>\n",
              "      <td>0</td>\n",
              "      <td>0</td>\n",
              "      <td>1</td>\n",
              "      <td>0</td>\n",
              "      <td>0</td>\n",
              "      <td>1</td>\n",
              "      <td>0</td>\n",
              "      <td>0</td>\n",
              "      <td>0</td>\n",
              "      <td>0</td>\n",
              "      <td>0</td>\n",
              "      <td>0</td>\n",
              "      <td>0</td>\n",
              "      <td>1</td>\n",
              "      <td>0</td>\n",
              "      <td>1</td>\n",
              "      <td>0</td>\n",
              "    </tr>\n",
              "  </tbody>\n",
              "</table>\n",
              "<p>1470 rows × 54 columns</p>\n",
              "</div>\n",
              "      <button class=\"colab-df-convert\" onclick=\"convertToInteractive('df-35d17a78-ed3a-40db-a9bc-10717f258065')\"\n",
              "              title=\"Convert this dataframe to an interactive table.\"\n",
              "              style=\"display:none;\">\n",
              "        \n",
              "  <svg xmlns=\"http://www.w3.org/2000/svg\" height=\"24px\"viewBox=\"0 0 24 24\"\n",
              "       width=\"24px\">\n",
              "    <path d=\"M0 0h24v24H0V0z\" fill=\"none\"/>\n",
              "    <path d=\"M18.56 5.44l.94 2.06.94-2.06 2.06-.94-2.06-.94-.94-2.06-.94 2.06-2.06.94zm-11 1L8.5 8.5l.94-2.06 2.06-.94-2.06-.94L8.5 2.5l-.94 2.06-2.06.94zm10 10l.94 2.06.94-2.06 2.06-.94-2.06-.94-.94-2.06-.94 2.06-2.06.94z\"/><path d=\"M17.41 7.96l-1.37-1.37c-.4-.4-.92-.59-1.43-.59-.52 0-1.04.2-1.43.59L10.3 9.45l-7.72 7.72c-.78.78-.78 2.05 0 2.83L4 21.41c.39.39.9.59 1.41.59.51 0 1.02-.2 1.41-.59l7.78-7.78 2.81-2.81c.8-.78.8-2.07 0-2.86zM5.41 20L4 18.59l7.72-7.72 1.47 1.35L5.41 20z\"/>\n",
              "  </svg>\n",
              "      </button>\n",
              "      \n",
              "  <style>\n",
              "    .colab-df-container {\n",
              "      display:flex;\n",
              "      flex-wrap:wrap;\n",
              "      gap: 12px;\n",
              "    }\n",
              "\n",
              "    .colab-df-convert {\n",
              "      background-color: #E8F0FE;\n",
              "      border: none;\n",
              "      border-radius: 50%;\n",
              "      cursor: pointer;\n",
              "      display: none;\n",
              "      fill: #1967D2;\n",
              "      height: 32px;\n",
              "      padding: 0 0 0 0;\n",
              "      width: 32px;\n",
              "    }\n",
              "\n",
              "    .colab-df-convert:hover {\n",
              "      background-color: #E2EBFA;\n",
              "      box-shadow: 0px 1px 2px rgba(60, 64, 67, 0.3), 0px 1px 3px 1px rgba(60, 64, 67, 0.15);\n",
              "      fill: #174EA6;\n",
              "    }\n",
              "\n",
              "    [theme=dark] .colab-df-convert {\n",
              "      background-color: #3B4455;\n",
              "      fill: #D2E3FC;\n",
              "    }\n",
              "\n",
              "    [theme=dark] .colab-df-convert:hover {\n",
              "      background-color: #434B5C;\n",
              "      box-shadow: 0px 1px 3px 1px rgba(0, 0, 0, 0.15);\n",
              "      filter: drop-shadow(0px 1px 2px rgba(0, 0, 0, 0.3));\n",
              "      fill: #FFFFFF;\n",
              "    }\n",
              "  </style>\n",
              "\n",
              "      <script>\n",
              "        const buttonEl =\n",
              "          document.querySelector('#df-35d17a78-ed3a-40db-a9bc-10717f258065 button.colab-df-convert');\n",
              "        buttonEl.style.display =\n",
              "          google.colab.kernel.accessAllowed ? 'block' : 'none';\n",
              "\n",
              "        async function convertToInteractive(key) {\n",
              "          const element = document.querySelector('#df-35d17a78-ed3a-40db-a9bc-10717f258065');\n",
              "          const dataTable =\n",
              "            await google.colab.kernel.invokeFunction('convertToInteractive',\n",
              "                                                     [key], {});\n",
              "          if (!dataTable) return;\n",
              "\n",
              "          const docLinkHtml = 'Like what you see? Visit the ' +\n",
              "            '<a target=\"_blank\" href=https://colab.research.google.com/notebooks/data_table.ipynb>data table notebook</a>'\n",
              "            + ' to learn more about interactive tables.';\n",
              "          element.innerHTML = '';\n",
              "          dataTable['output_type'] = 'display_data';\n",
              "          await google.colab.output.renderOutput(dataTable, element);\n",
              "          const docLink = document.createElement('div');\n",
              "          docLink.innerHTML = docLinkHtml;\n",
              "          element.appendChild(docLink);\n",
              "        }\n",
              "      </script>\n",
              "    </div>\n",
              "  </div>\n",
              "  "
            ],
            "text/plain": [
              "      Attrition_No  Attrition_Yes  ...  OverTime_No  OverTime_Yes\n",
              "0                0              1  ...            0             1\n",
              "1                1              0  ...            1             0\n",
              "2                0              1  ...            0             1\n",
              "3                1              0  ...            0             1\n",
              "4                1              0  ...            1             0\n",
              "...            ...            ...  ...          ...           ...\n",
              "1465             1              0  ...            1             0\n",
              "1466             1              0  ...            1             0\n",
              "1467             1              0  ...            0             1\n",
              "1468             1              0  ...            1             0\n",
              "1469             1              0  ...            1             0\n",
              "\n",
              "[1470 rows x 54 columns]"
            ]
          },
          "metadata": {},
          "execution_count": 34
        }
      ]
    },
    {
      "cell_type": "code",
      "source": [
        "from numpy import mean\n",
        "from numpy import std\n",
        "from sklearn.model_selection import cross_val_score\n",
        "from sklearn.model_selection import RepeatedStratifiedKFold\n",
        "from sklearn.discriminant_analysis import LinearDiscriminantAnalysis\n",
        "# define dataset\n",
        "X = dummies.iloc[:, 2:].values\n",
        "y = dummies.iloc[:, 1:2].values\n",
        "# define model\n",
        "model = LinearDiscriminantAnalysis()\n",
        "model.fit(X,y)\n",
        "# define model evaluation method\n",
        "cv = RepeatedStratifiedKFold(n_splits=10, n_repeats=3, random_state=1)\n",
        "# evaluate model\n",
        "scores = cross_val_score(model, X, y, scoring='accuracy', cv=cv, n_jobs=-1)\n",
        "# summarize result\n",
        "print('Mean Accuracy: %.3f (%.3f)' % (mean(scores), std(scores)))"
      ],
      "metadata": {
        "colab": {
          "base_uri": "https://localhost:8080/"
        },
        "id": "qKY_5o1iYK0u",
        "outputId": "33041e84-515d-450c-b797-74b618f5057c"
      },
      "execution_count": null,
      "outputs": [
        {
          "output_type": "stream",
          "name": "stderr",
          "text": [
            "/usr/local/lib/python3.7/dist-packages/sklearn/utils/validation.py:985: DataConversionWarning: A column-vector y was passed when a 1d array was expected. Please change the shape of y to (n_samples, ), for example using ravel().\n",
            "  y = column_or_1d(y, warn=True)\n"
          ]
        },
        {
          "output_type": "stream",
          "name": "stdout",
          "text": [
            "Mean Accuracy: 0.878 (0.021)\n"
          ]
        }
      ]
    },
    {
      "cell_type": "code",
      "source": [
        "from sklearn.metrics import plot_roc_curve\n",
        "plot_roc_curve(model, X, y)"
      ],
      "metadata": {
        "colab": {
          "base_uri": "https://localhost:8080/",
          "height": 351
        },
        "id": "4Bm2uZEAJq69",
        "outputId": "d595ab77-6618-4694-c368-f9c9b61abb9f"
      },
      "execution_count": null,
      "outputs": [
        {
          "output_type": "stream",
          "name": "stderr",
          "text": [
            "/usr/local/lib/python3.7/dist-packages/sklearn/utils/deprecation.py:87: FutureWarning: Function plot_roc_curve is deprecated; Function `plot_roc_curve` is deprecated in 1.0 and will be removed in 1.2. Use one of the class methods: RocCurveDisplay.from_predictions or RocCurveDisplay.from_estimator.\n",
            "  warnings.warn(msg, category=FutureWarning)\n"
          ]
        },
        {
          "output_type": "execute_result",
          "data": {
            "text/plain": [
              "<sklearn.metrics._plot.roc_curve.RocCurveDisplay at 0x7ff8a39275d0>"
            ]
          },
          "metadata": {},
          "execution_count": 75
        },
        {
          "output_type": "display_data",
          "data": {
            "image/png": "[encoded data removed]",
            "text/plain": [
              "<Figure size 432x288 with 1 Axes>"
            ]
          },
          "metadata": {
            "needs_background": "light"
          }
        }
      ]
    },
    {
      "cell_type": "code",
      "source": [
        "\n",
        "df_importance = pd.DataFrame(np.array(model.coef_[0]), index = dummies.columns[2:], columns=[\"Importance\"])\n",
        "\n",
        "df_importance.apply(np.abs).sort_values(ascending=False, by='Importance').head(20)\n"
      ],
      "metadata": {
        "colab": {
          "base_uri": "https://localhost:8080/",
          "height": 677
        },
        "id": "qu6eao5hx0hq",
        "outputId": "b0ed6bb7-aa09-4d3d-d672-a74700749714"
      },
      "execution_count": null,
      "outputs": [
        {
          "output_type": "execute_result",
          "data": {
            "text/html": [
              "\n",
              "  <div id=\"df-4cc04556-0474-41ea-a2c5-5f7f9edc1a25\">\n",
              "    <div class=\"colab-df-container\">\n",
              "      <div>\n",
              "<style scoped>\n",
              "    .dataframe tbody tr th:only-of-type {\n",
              "        vertical-align: middle;\n",
              "    }\n",
              "\n",
              "    .dataframe tbody tr th {\n",
              "        vertical-align: top;\n",
              "    }\n",
              "\n",
              "    .dataframe thead th {\n",
              "        text-align: right;\n",
              "    }\n",
              "</style>\n",
              "<table border=\"1\" class=\"dataframe\">\n",
              "  <thead>\n",
              "    <tr style=\"text-align: right;\">\n",
              "      <th></th>\n",
              "      <th>Importance</th>\n",
              "    </tr>\n",
              "  </thead>\n",
              "  <tbody>\n",
              "    <tr>\n",
              "      <th>JobRole_Sales Representative</th>\n",
              "      <td>1.731836</td>\n",
              "    </tr>\n",
              "    <tr>\n",
              "      <th>JobRole_Human Resources</th>\n",
              "      <td>1.335007</td>\n",
              "    </tr>\n",
              "    <tr>\n",
              "      <th>EducationField_Human Resources</th>\n",
              "      <td>1.078293</td>\n",
              "    </tr>\n",
              "    <tr>\n",
              "      <th>Department_Human Resources</th>\n",
              "      <td>1.075877</td>\n",
              "    </tr>\n",
              "    <tr>\n",
              "      <th>OverTime_Yes</th>\n",
              "      <td>1.047895</td>\n",
              "    </tr>\n",
              "    <tr>\n",
              "      <th>OverTime_No</th>\n",
              "      <td>1.047895</td>\n",
              "    </tr>\n",
              "    <tr>\n",
              "      <th>JobRole_Research Director</th>\n",
              "      <td>0.829825</td>\n",
              "    </tr>\n",
              "    <tr>\n",
              "      <th>BusinessTravel_Non-Travel</th>\n",
              "      <td>0.813844</td>\n",
              "    </tr>\n",
              "    <tr>\n",
              "      <th>JobRole_Healthcare Representative</th>\n",
              "      <td>0.808589</td>\n",
              "    </tr>\n",
              "    <tr>\n",
              "      <th>EducationField_Technical Degree</th>\n",
              "      <td>0.808048</td>\n",
              "    </tr>\n",
              "    <tr>\n",
              "      <th>BusinessTravel_Travel_Frequently</th>\n",
              "      <td>0.705505</td>\n",
              "    </tr>\n",
              "    <tr>\n",
              "      <th>MaritalStatus_Single</th>\n",
              "      <td>0.675038</td>\n",
              "    </tr>\n",
              "    <tr>\n",
              "      <th>JobRole_Manufacturing Director</th>\n",
              "      <td>0.657464</td>\n",
              "    </tr>\n",
              "    <tr>\n",
              "      <th>JobInvolvement</th>\n",
              "      <td>0.576830</td>\n",
              "    </tr>\n",
              "    <tr>\n",
              "      <th>JobRole_Laboratory Technician</th>\n",
              "      <td>0.558897</td>\n",
              "    </tr>\n",
              "    <tr>\n",
              "      <th>JobRole_Research Scientist</th>\n",
              "      <td>0.419997</td>\n",
              "    </tr>\n",
              "    <tr>\n",
              "      <th>MaritalStatus_Divorced</th>\n",
              "      <td>0.413866</td>\n",
              "    </tr>\n",
              "    <tr>\n",
              "      <th>EnvironmentSatisfaction</th>\n",
              "      <td>0.402906</td>\n",
              "    </tr>\n",
              "    <tr>\n",
              "      <th>JobSatisfaction</th>\n",
              "      <td>0.369644</td>\n",
              "    </tr>\n",
              "    <tr>\n",
              "      <th>EducationField_Other</th>\n",
              "      <td>0.363010</td>\n",
              "    </tr>\n",
              "  </tbody>\n",
              "</table>\n",
              "</div>\n",
              "      <button class=\"colab-df-convert\" onclick=\"convertToInteractive('df-4cc04556-0474-41ea-a2c5-5f7f9edc1a25')\"\n",
              "              title=\"Convert this dataframe to an interactive table.\"\n",
              "              style=\"display:none;\">\n",
              "        \n",
              "  <svg xmlns=\"http://www.w3.org/2000/svg\" height=\"24px\"viewBox=\"0 0 24 24\"\n",
              "       width=\"24px\">\n",
              "    <path d=\"M0 0h24v24H0V0z\" fill=\"none\"/>\n",
              "    <path d=\"M18.56 5.44l.94 2.06.94-2.06 2.06-.94-2.06-.94-.94-2.06-.94 2.06-2.06.94zm-11 1L8.5 8.5l.94-2.06 2.06-.94-2.06-.94L8.5 2.5l-.94 2.06-2.06.94zm10 10l.94 2.06.94-2.06 2.06-.94-2.06-.94-.94-2.06-.94 2.06-2.06.94z\"/><path d=\"M17.41 7.96l-1.37-1.37c-.4-.4-.92-.59-1.43-.59-.52 0-1.04.2-1.43.59L10.3 9.45l-7.72 7.72c-.78.78-.78 2.05 0 2.83L4 21.41c.39.39.9.59 1.41.59.51 0 1.02-.2 1.41-.59l7.78-7.78 2.81-2.81c.8-.78.8-2.07 0-2.86zM5.41 20L4 18.59l7.72-7.72 1.47 1.35L5.41 20z\"/>\n",
              "  </svg>\n",
              "      </button>\n",
              "      \n",
              "  <style>\n",
              "    .colab-df-container {\n",
              "      display:flex;\n",
              "      flex-wrap:wrap;\n",
              "      gap: 12px;\n",
              "    }\n",
              "\n",
              "    .colab-df-convert {\n",
              "      background-color: #E8F0FE;\n",
              "      border: none;\n",
              "      border-radius: 50%;\n",
              "      cursor: pointer;\n",
              "      display: none;\n",
              "      fill: #1967D2;\n",
              "      height: 32px;\n",
              "      padding: 0 0 0 0;\n",
              "      width: 32px;\n",
              "    }\n",
              "\n",
              "    .colab-df-convert:hover {\n",
              "      background-color: #E2EBFA;\n",
              "      box-shadow: 0px 1px 2px rgba(60, 64, 67, 0.3), 0px 1px 3px 1px rgba(60, 64, 67, 0.15);\n",
              "      fill: #174EA6;\n",
              "    }\n",
              "\n",
              "    [theme=dark] .colab-df-convert {\n",
              "      background-color: #3B4455;\n",
              "      fill: #D2E3FC;\n",
              "    }\n",
              "\n",
              "    [theme=dark] .colab-df-convert:hover {\n",
              "      background-color: #434B5C;\n",
              "      box-shadow: 0px 1px 3px 1px rgba(0, 0, 0, 0.15);\n",
              "      filter: drop-shadow(0px 1px 2px rgba(0, 0, 0, 0.3));\n",
              "      fill: #FFFFFF;\n",
              "    }\n",
              "  </style>\n",
              "\n",
              "      <script>\n",
              "        const buttonEl =\n",
              "          document.querySelector('#df-4cc04556-0474-41ea-a2c5-5f7f9edc1a25 button.colab-df-convert');\n",
              "        buttonEl.style.display =\n",
              "          google.colab.kernel.accessAllowed ? 'block' : 'none';\n",
              "\n",
              "        async function convertToInteractive(key) {\n",
              "          const element = document.querySelector('#df-4cc04556-0474-41ea-a2c5-5f7f9edc1a25');\n",
              "          const dataTable =\n",
              "            await google.colab.kernel.invokeFunction('convertToInteractive',\n",
              "                                                     [key], {});\n",
              "          if (!dataTable) return;\n",
              "\n",
              "          const docLinkHtml = 'Like what you see? Visit the ' +\n",
              "            '<a target=\"_blank\" href=https://colab.research.google.com/notebooks/data_table.ipynb>data table notebook</a>'\n",
              "            + ' to learn more about interactive tables.';\n",
              "          element.innerHTML = '';\n",
              "          dataTable['output_type'] = 'display_data';\n",
              "          await google.colab.output.renderOutput(dataTable, element);\n",
              "          const docLink = document.createElement('div');\n",
              "          docLink.innerHTML = docLinkHtml;\n",
              "          element.appendChild(docLink);\n",
              "        }\n",
              "      </script>\n",
              "    </div>\n",
              "  </div>\n",
              "  "
            ],
            "text/plain": [
              "                                   Importance\n",
              "JobRole_Sales Representative         1.731836\n",
              "JobRole_Human Resources              1.335007\n",
              "EducationField_Human Resources       1.078293\n",
              "Department_Human Resources           1.075877\n",
              "OverTime_Yes                         1.047895\n",
              "OverTime_No                          1.047895\n",
              "JobRole_Research Director            0.829825\n",
              "BusinessTravel_Non-Travel            0.813844\n",
              "JobRole_Healthcare Representative    0.808589\n",
              "EducationField_Technical Degree      0.808048\n",
              "BusinessTravel_Travel_Frequently     0.705505\n",
              "MaritalStatus_Single                 0.675038\n",
              "JobRole_Manufacturing Director       0.657464\n",
              "JobInvolvement                       0.576830\n",
              "JobRole_Laboratory Technician        0.558897\n",
              "JobRole_Research Scientist           0.419997\n",
              "MaritalStatus_Divorced               0.413866\n",
              "EnvironmentSatisfaction              0.402906\n",
              "JobSatisfaction                      0.369644\n",
              "EducationField_Other                 0.363010"
            ]
          },
          "metadata": {},
          "execution_count": 101
        }
      ]
    },
    {
      "cell_type": "markdown",
      "source": [
        "#Discussion of the results\n",
        "\n",
        "In the exploratory analysis part, I tried to do dimensionality reduction and clustering. I think it was not very successful, as the error rate was high. I noticed some patterns in the data by visualising it and I tried to briefly summarize the observations. I plotted a correlation heatmap, which in my opinion displays all the relationships between variables. When I think about the correlation carefully, all the correlations make sense. Also I deleted some predictors, which looked useless.\n",
        "\n",
        "Then I took three of those observations and tested them formally with hypotheses. It was a bit tricky, as most of the methods taught in SAN required normal distribution. And none of the variables follow normal distribution, as I found out in the first hypothesis testing.\n",
        "\n",
        "For prediction model I chose LDA over logistic regression, as I already had some experience with LDA (from HW). I had to convert the data to numeric values, in order to run LDA properly. I trained the model and I ran a 10-fold cross validation with 3 repetitions. The model had 87.8% classification accuraccy, which I consider a success. When I tried logistic regression, the accuracy was a tiny bit lower, but maybe that was due to the parameters. The ROC curve looks good as well. \n",
        "\n",
        "From the LDA model, I was also able to determine the most important features, which indicates employee attrition. The most important variables are visible in the last table. The most surprising fact for me is that martial status is an important attribute in attrition prediction. I would not expect that one. \n",
        "\n",
        "\n",
        "\n"
      ],
      "metadata": {
        "id": "JjLlvudTBVSJ"
      }
    }
  ]
}